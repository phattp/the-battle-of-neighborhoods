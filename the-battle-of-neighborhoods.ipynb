{
 "cells": [
  {
   "cell_type": "markdown",
   "metadata": {},
   "source": [
    "# The Battle of Neighborhoods"
   ]
  },
  {
   "cell_type": "markdown",
   "metadata": {},
   "source": [
    "## Introduction & Business Problem\n",
    "\n",
    "### Introduction \n",
    "New York City is the most diverse and populated city in the United States (the city has a population density of over 27,000 people per square mile). In New York, you’ll find almost every race and language you can think of under the sun, hence the common moniker, “the melting pot of the world.” The city is made up of 5 boroughs: Manhattan, Brooklyn, Queens, the Bronx and Staten Island, all of which were “grouped” together into a single city in 1898.\n",
    "\n",
    "Due to the prosperity and grandeur of New York City resulting in people from many countries want to come to New York City whether coming to work or coming to study. Many Thai people also have come to New York for traveling, working, and studying that make Thai food is one of the popular foods in New York City.\n",
    "\n",
    "### Business Problem\n",
    "Because many Thai people come to live in New York City. These people usually eat Thai food in their everyday life so they need to live in the area that has many Thai restaurants so that they can easily find a good Thai food.\n",
    "\n",
    "In addition, there are also many group of tourists whether Thai tourists who miss their home country food, people from other countries who like Thai food or even people who want to try Thai food would like to know information about which area in New York has many Thai restaurants so that there are many options for them.\n",
    "\n",
    "Therefore, I will solve this problem by answer the questions as following:\n",
    "1. Which neighborhood in New York City have the most Thai restaurants?\n",
    "2. Which neighborhood in New York City have the best average rating for Thai restaurants?\n",
    "\n",
    "### Target Audience\n",
    "- Main target audience is Thai people who living in New York City want to live in an area with a variety of Thai restaurants.\n",
    "- Secondary target audience is tourists who interested in Thai food."
   ]
  },
  {
   "cell_type": "markdown",
   "metadata": {},
   "source": [
    "## Data Section\n",
    "\n",
    "### New York City Neighborhoods Data\n",
    "I will use New York City neighborhoods dataset that published from New York (City). Department of City Planning on the following url:\n",
    "\n",
    "https://geo.nyu.edu/catalog/nyu_2451_34572 \n",
    "\n",
    "This dataset contains 5 boroughs and 306 neighborhoods that exist in each borough as well as the latitude and the longitude coordinates of each neighborhood.\n",
    "\n",
    "In this dataset, I will extract borough, neighborhood, latitude and longitude to visualize the data New York City map.\n",
    "\n",
    "### Thai Restaurants Data\n",
    "I will use Foursquare API which is well-known location data provider to extract venue data for Thai restaurant in New York City using Thai Restaurant (4bf58dd8d48988d149941735) venue category."
   ]
  },
  {
   "cell_type": "markdown",
   "metadata": {},
   "source": [
    "## Methodology\n",
    "1. Extract borough, neighborhood, latitude and longitude of New York City from https://geo.nyu.edu/catalog/nyu_2451_34572\n",
    "2. Convert data into pandas dataframe format for easy to analyze.\n",
    "3. Let's see the example of the data, shape and descriptive statistics.\n",
    "4. Extract Thai restuarants data in each neighborhood from Foursqare API\n",
    "5. Convert data into pandas dataframe and csv.\n",
    "6. Let's see the example of the data, shape and descriptive statistics.\n",
    "7. Visualize the data the answer the questions."
   ]
  },
  {
   "cell_type": "markdown",
   "metadata": {},
   "source": [
    "Firstly, let's import nescessary libraries."
   ]
  },
  {
   "cell_type": "code",
   "execution_count": 17,
   "metadata": {},
   "outputs": [
    {
     "name": "stdout",
     "output_type": "stream",
     "text": [
      "Libraries imported.\n"
     ]
    }
   ],
   "source": [
    "import numpy as np # library to handle data in a vectorized manner\n",
    "\n",
    "import pandas as pd # library for data analsysis\n",
    "pd.set_option('display.max_columns', None)\n",
    "pd.set_option('display.max_rows', None)\n",
    "\n",
    "import json # library to handle JSON files\n",
    "\n",
    "from geopy.geocoders import Nominatim # convert an address into latitude and longitude values\n",
    "\n",
    "import requests # library to handle requests\n",
    "from pandas.io.json import json_normalize # tranform JSON file into a pandas dataframe\n",
    "\n",
    "# Matplotlib and associated plotting modules\n",
    "import matplotlib.pyplot as plt\n",
    "import matplotlib.cm as cm\n",
    "import matplotlib.colors as colors\n",
    "%matplotlib inline\n",
    "\n",
    "import folium # map rendering library\n",
    "\n",
    "print('Libraries imported.')"
   ]
  },
  {
   "cell_type": "markdown",
   "metadata": {},
   "source": [
    "Extract data from newyork_data.json"
   ]
  },
  {
   "cell_type": "code",
   "execution_count": 2,
   "metadata": {},
   "outputs": [],
   "source": [
    "with open('newyork_data.json') as json_data:\n",
    "    newyork_data = json.load(json_data)"
   ]
  },
  {
   "cell_type": "code",
   "execution_count": 3,
   "metadata": {},
   "outputs": [],
   "source": [
    "neighborhoods_data = newyork_data['features']"
   ]
  },
  {
   "cell_type": "code",
   "execution_count": 4,
   "metadata": {},
   "outputs": [
    {
     "data": {
      "text/plain": [
       "{'type': 'Feature',\n",
       " 'id': 'nyu_2451_34572.1',\n",
       " 'geometry': {'type': 'Point',\n",
       "  'coordinates': [-73.84720052054902, 40.89470517661]},\n",
       " 'geometry_name': 'geom',\n",
       " 'properties': {'name': 'Wakefield',\n",
       "  'stacked': 1,\n",
       "  'annoline1': 'Wakefield',\n",
       "  'annoline2': None,\n",
       "  'annoline3': None,\n",
       "  'annoangle': 0.0,\n",
       "  'borough': 'Bronx',\n",
       "  'bbox': [-73.84720052054902,\n",
       "   40.89470517661,\n",
       "   -73.84720052054902,\n",
       "   40.89470517661]}}"
      ]
     },
     "execution_count": 4,
     "metadata": {},
     "output_type": "execute_result"
    }
   ],
   "source": [
    "neighborhoods_data[0]"
   ]
  },
  {
   "cell_type": "markdown",
   "metadata": {},
   "source": [
    "Convert json to dataframe"
   ]
  },
  {
   "cell_type": "code",
   "execution_count": 5,
   "metadata": {},
   "outputs": [],
   "source": [
    "# define the dataframe columns\n",
    "column_names = ['Borough', 'Neighborhood', 'Latitude', 'Longitude'] \n",
    "\n",
    "# instantiate the dataframe\n",
    "neighborhoods = pd.DataFrame(columns=column_names)"
   ]
  },
  {
   "cell_type": "code",
   "execution_count": 6,
   "metadata": {},
   "outputs": [
    {
     "data": {
      "text/html": [
       "<div>\n",
       "<style scoped>\n",
       "    .dataframe tbody tr th:only-of-type {\n",
       "        vertical-align: middle;\n",
       "    }\n",
       "\n",
       "    .dataframe tbody tr th {\n",
       "        vertical-align: top;\n",
       "    }\n",
       "\n",
       "    .dataframe thead th {\n",
       "        text-align: right;\n",
       "    }\n",
       "</style>\n",
       "<table border=\"1\" class=\"dataframe\">\n",
       "  <thead>\n",
       "    <tr style=\"text-align: right;\">\n",
       "      <th></th>\n",
       "      <th>Borough</th>\n",
       "      <th>Neighborhood</th>\n",
       "      <th>Latitude</th>\n",
       "      <th>Longitude</th>\n",
       "    </tr>\n",
       "  </thead>\n",
       "  <tbody>\n",
       "  </tbody>\n",
       "</table>\n",
       "</div>"
      ],
      "text/plain": [
       "Empty DataFrame\n",
       "Columns: [Borough, Neighborhood, Latitude, Longitude]\n",
       "Index: []"
      ]
     },
     "execution_count": 6,
     "metadata": {},
     "output_type": "execute_result"
    }
   ],
   "source": [
    "neighborhoods"
   ]
  },
  {
   "cell_type": "code",
   "execution_count": 7,
   "metadata": {},
   "outputs": [],
   "source": [
    "for data in neighborhoods_data:\n",
    "    borough = neighborhood_name = data['properties']['borough'] \n",
    "    neighborhood_name = data['properties']['name']\n",
    "        \n",
    "    neighborhood_latlon = data['geometry']['coordinates']\n",
    "    neighborhood_lat = neighborhood_latlon[1]\n",
    "    neighborhood_lon = neighborhood_latlon[0]\n",
    "    \n",
    "    neighborhoods = neighborhoods.append({'Borough': borough,\n",
    "                                          'Neighborhood': neighborhood_name,\n",
    "                                          'Latitude': neighborhood_lat,\n",
    "                                          'Longitude': neighborhood_lon}, ignore_index=True)"
   ]
  },
  {
   "cell_type": "markdown",
   "metadata": {},
   "source": [
    "Let's see the example of the data."
   ]
  },
  {
   "cell_type": "code",
   "execution_count": 8,
   "metadata": {},
   "outputs": [
    {
     "data": {
      "text/html": [
       "<div>\n",
       "<style scoped>\n",
       "    .dataframe tbody tr th:only-of-type {\n",
       "        vertical-align: middle;\n",
       "    }\n",
       "\n",
       "    .dataframe tbody tr th {\n",
       "        vertical-align: top;\n",
       "    }\n",
       "\n",
       "    .dataframe thead th {\n",
       "        text-align: right;\n",
       "    }\n",
       "</style>\n",
       "<table border=\"1\" class=\"dataframe\">\n",
       "  <thead>\n",
       "    <tr style=\"text-align: right;\">\n",
       "      <th></th>\n",
       "      <th>Borough</th>\n",
       "      <th>Neighborhood</th>\n",
       "      <th>Latitude</th>\n",
       "      <th>Longitude</th>\n",
       "    </tr>\n",
       "  </thead>\n",
       "  <tbody>\n",
       "    <tr>\n",
       "      <th>0</th>\n",
       "      <td>Bronx</td>\n",
       "      <td>Wakefield</td>\n",
       "      <td>40.894705</td>\n",
       "      <td>-73.847201</td>\n",
       "    </tr>\n",
       "    <tr>\n",
       "      <th>1</th>\n",
       "      <td>Bronx</td>\n",
       "      <td>Co-op City</td>\n",
       "      <td>40.874294</td>\n",
       "      <td>-73.829939</td>\n",
       "    </tr>\n",
       "    <tr>\n",
       "      <th>2</th>\n",
       "      <td>Bronx</td>\n",
       "      <td>Eastchester</td>\n",
       "      <td>40.887556</td>\n",
       "      <td>-73.827806</td>\n",
       "    </tr>\n",
       "    <tr>\n",
       "      <th>3</th>\n",
       "      <td>Bronx</td>\n",
       "      <td>Fieldston</td>\n",
       "      <td>40.895437</td>\n",
       "      <td>-73.905643</td>\n",
       "    </tr>\n",
       "    <tr>\n",
       "      <th>4</th>\n",
       "      <td>Bronx</td>\n",
       "      <td>Riverdale</td>\n",
       "      <td>40.890834</td>\n",
       "      <td>-73.912585</td>\n",
       "    </tr>\n",
       "  </tbody>\n",
       "</table>\n",
       "</div>"
      ],
      "text/plain": [
       "  Borough Neighborhood   Latitude  Longitude\n",
       "0   Bronx    Wakefield  40.894705 -73.847201\n",
       "1   Bronx   Co-op City  40.874294 -73.829939\n",
       "2   Bronx  Eastchester  40.887556 -73.827806\n",
       "3   Bronx    Fieldston  40.895437 -73.905643\n",
       "4   Bronx    Riverdale  40.890834 -73.912585"
      ]
     },
     "execution_count": 8,
     "metadata": {},
     "output_type": "execute_result"
    }
   ],
   "source": [
    "neighborhoods.head()"
   ]
  },
  {
   "cell_type": "code",
   "execution_count": 9,
   "metadata": {},
   "outputs": [
    {
     "name": "stdout",
     "output_type": "stream",
     "text": [
      "The dataframe has 5 boroughs and 306 neighborhoods.\n"
     ]
    }
   ],
   "source": [
    "print('The dataframe has {} boroughs and {} neighborhoods.'.format(\n",
    "        len(neighborhoods['Borough'].unique()),\n",
    "        neighborhoods.shape[0]\n",
    "    )\n",
    ")"
   ]
  },
  {
   "cell_type": "markdown",
   "metadata": {},
   "source": [
    "Then, extract Thai restuarants data from Foursquare API."
   ]
  },
  {
   "cell_type": "code",
   "execution_count": 12,
   "metadata": {},
   "outputs": [],
   "source": [
    "def get_venues(lat,lng):\n",
    "    \n",
    "    #set variables\n",
    "    CLIENT_ID = '2YZ3UDVZXAD4ODFRVNPW0FJ1D31LRWJH1RTFTH5GG0YNIQJE' # your Foursquare ID\n",
    "    CLIENT_SECRET = 'ZM45XKPONM4XO2AYSNVNKCDZVC24QF1YRLZBVM32N52VDYKC' # your Foursquare Secret\n",
    "    VERSION = '20200424' # Foursquare API version\n",
    "    LIMIT = 500\n",
    "    radius = 500\n",
    "    \n",
    "    #url to fetch data from foursquare api\n",
    "    url = 'https://api.foursquare.com/v2/venues/explore?&client_id={}&client_secret={}&v={}&ll={},{}'.format(\n",
    "            CLIENT_ID, \n",
    "            CLIENT_SECRET, \n",
    "            VERSION, \n",
    "            lat, \n",
    "            lng)\n",
    "    \n",
    "    # get all the data\n",
    "    results = requests.get(url).json()\n",
    "    venue_data=results[\"response\"]['groups'][0]['items']\n",
    "    venue_details=[]\n",
    "    for row in venue_data:\n",
    "        try:\n",
    "            venue_id=row['venue']['id']\n",
    "            venue_name=row['venue']['name']\n",
    "            venue_category=row['venue']['categories'][0]['name']\n",
    "            venue_details.append([venue_id,venue_name,venue_category])\n",
    "        except KeyError:\n",
    "            pass\n",
    "        \n",
    "    column_names=['ID','Name','Category']\n",
    "    df = pd.DataFrame(venue_details,columns=column_names)\n",
    "    return df"
   ]
  },
  {
   "cell_type": "code",
   "execution_count": 13,
   "metadata": {},
   "outputs": [
    {
     "name": "stdout",
     "output_type": "stream",
     "text": [
      "( 1 / 306 ) Thai Resturants in Wakefield, Bronx:0\n",
      "( 2 / 306 ) Thai Resturants in Co-op City, Bronx:0\n",
      "( 3 / 306 ) Thai Resturants in Eastchester, Bronx:0\n",
      "( 4 / 306 ) Thai Resturants in Fieldston, Bronx:0\n",
      "( 5 / 306 ) Thai Resturants in Riverdale, Bronx:0\n",
      "( 6 / 306 ) Thai Resturants in Kingsbridge, Bronx:0\n",
      "( 7 / 306 ) Thai Resturants in Marble Hill, Manhattan:0\n",
      "( 8 / 306 ) Thai Resturants in Woodlawn, Bronx:1\n",
      "( 9 / 306 ) Thai Resturants in Norwood, Bronx:0\n",
      "( 10 / 306 ) Thai Resturants in Williamsbridge, Bronx:0\n",
      "( 11 / 306 ) Thai Resturants in Baychester, Bronx:0\n",
      "( 12 / 306 ) Thai Resturants in Pelham Parkway, Bronx:0\n",
      "( 13 / 306 ) Thai Resturants in City Island, Bronx:0\n",
      "( 14 / 306 ) Thai Resturants in Bedford Park, Bronx:0\n",
      "( 15 / 306 ) Thai Resturants in University Heights, Bronx:0\n",
      "( 16 / 306 ) Thai Resturants in Morris Heights, Bronx:0\n",
      "( 17 / 306 ) Thai Resturants in Fordham, Bronx:0\n",
      "( 18 / 306 ) Thai Resturants in East Tremont, Bronx:0\n",
      "( 19 / 306 ) Thai Resturants in West Farms, Bronx:0\n",
      "( 20 / 306 ) Thai Resturants in High  Bridge, Bronx:0\n",
      "( 21 / 306 ) Thai Resturants in Melrose, Bronx:0\n",
      "( 22 / 306 ) Thai Resturants in Mott Haven, Bronx:0\n",
      "( 23 / 306 ) Thai Resturants in Port Morris, Bronx:0\n",
      "( 24 / 306 ) Thai Resturants in Longwood, Bronx:0\n",
      "( 25 / 306 ) Thai Resturants in Hunts Point, Bronx:0\n",
      "( 26 / 306 ) Thai Resturants in Morrisania, Bronx:0\n",
      "( 27 / 306 ) Thai Resturants in Soundview, Bronx:0\n",
      "( 28 / 306 ) Thai Resturants in Clason Point, Bronx:0\n",
      "( 29 / 306 ) Thai Resturants in Throgs Neck, Bronx:0\n",
      "( 30 / 306 ) Thai Resturants in Country Club, Bronx:0\n",
      "( 31 / 306 ) Thai Resturants in Parkchester, Bronx:1\n",
      "( 32 / 306 ) Thai Resturants in Westchester Square, Bronx:0\n",
      "( 33 / 306 ) Thai Resturants in Van Nest, Bronx:1\n",
      "( 34 / 306 ) Thai Resturants in Morris Park, Bronx:0\n",
      "( 35 / 306 ) Thai Resturants in Belmont, Bronx:0\n",
      "( 36 / 306 ) Thai Resturants in Spuyten Duyvil, Bronx:0\n",
      "( 37 / 306 ) Thai Resturants in North Riverdale, Bronx:1\n",
      "( 38 / 306 ) Thai Resturants in Pelham Bay, Bronx:1\n",
      "( 39 / 306 ) Thai Resturants in Schuylerville, Bronx:0\n",
      "( 40 / 306 ) Thai Resturants in Edgewater Park, Bronx:0\n",
      "( 41 / 306 ) Thai Resturants in Castle Hill, Bronx:0\n",
      "( 42 / 306 ) Thai Resturants in Olinville, Bronx:0\n",
      "( 43 / 306 ) Thai Resturants in Pelham Gardens, Bronx:0\n",
      "( 44 / 306 ) Thai Resturants in Concourse, Bronx:0\n",
      "( 45 / 306 ) Thai Resturants in Unionport, Bronx:0\n",
      "( 46 / 306 ) Thai Resturants in Edenwald, Bronx:0\n",
      "( 47 / 306 ) Thai Resturants in Bay Ridge, Brooklyn:0\n",
      "( 48 / 306 ) Thai Resturants in Bensonhurst, Brooklyn:0\n",
      "( 49 / 306 ) Thai Resturants in Sunset Park, Brooklyn:0\n",
      "( 50 / 306 ) Thai Resturants in Greenpoint, Brooklyn:0\n",
      "( 51 / 306 ) Thai Resturants in Gravesend, Brooklyn:0\n",
      "( 52 / 306 ) Thai Resturants in Brighton Beach, Brooklyn:0\n",
      "( 53 / 306 ) Thai Resturants in Sheepshead Bay, Brooklyn:0\n",
      "( 54 / 306 ) Thai Resturants in Manhattan Terrace, Brooklyn:0\n",
      "( 55 / 306 ) Thai Resturants in Flatbush, Brooklyn:0\n",
      "( 56 / 306 ) Thai Resturants in Crown Heights, Brooklyn:1\n",
      "( 57 / 306 ) Thai Resturants in East Flatbush, Brooklyn:0\n",
      "( 58 / 306 ) Thai Resturants in Kensington, Brooklyn:3\n",
      "( 59 / 306 ) Thai Resturants in Windsor Terrace, Brooklyn:0\n",
      "( 60 / 306 ) Thai Resturants in Prospect Heights, Brooklyn:1\n",
      "( 61 / 306 ) Thai Resturants in Brownsville, Brooklyn:0\n",
      "( 62 / 306 ) Thai Resturants in Williamsburg, Brooklyn:0\n",
      "( 63 / 306 ) Thai Resturants in Bushwick, Brooklyn:0\n",
      "( 64 / 306 ) Thai Resturants in Bedford Stuyvesant, Brooklyn:0\n",
      "( 65 / 306 ) Thai Resturants in Brooklyn Heights, Brooklyn:1\n",
      "( 66 / 306 ) Thai Resturants in Cobble Hill, Brooklyn:0\n",
      "( 67 / 306 ) Thai Resturants in Carroll Gardens, Brooklyn:2\n",
      "( 68 / 306 ) Thai Resturants in Red Hook, Brooklyn:0\n",
      "( 69 / 306 ) Thai Resturants in Gowanus, Brooklyn:2\n",
      "( 70 / 306 ) Thai Resturants in Fort Greene, Brooklyn:0\n",
      "( 71 / 306 ) Thai Resturants in Park Slope, Brooklyn:0\n",
      "( 72 / 306 ) Thai Resturants in Cypress Hills, Brooklyn:0\n",
      "( 73 / 306 ) Thai Resturants in East New York, Brooklyn:0\n",
      "( 74 / 306 ) Thai Resturants in Starrett City, Brooklyn:0\n",
      "( 75 / 306 ) Thai Resturants in Canarsie, Brooklyn:0\n",
      "( 76 / 306 ) Thai Resturants in Flatlands, Brooklyn:0\n",
      "( 77 / 306 ) Thai Resturants in Mill Island, Brooklyn:0\n",
      "( 78 / 306 ) Thai Resturants in Manhattan Beach, Brooklyn:0\n",
      "( 79 / 306 ) Thai Resturants in Coney Island, Brooklyn:0\n",
      "( 80 / 306 ) Thai Resturants in Bath Beach, Brooklyn:0\n",
      "( 81 / 306 ) Thai Resturants in Borough Park, Brooklyn:0\n",
      "( 82 / 306 ) Thai Resturants in Dyker Heights, Brooklyn:0\n",
      "( 83 / 306 ) Thai Resturants in Gerritsen Beach, Brooklyn:0\n",
      "( 84 / 306 ) Thai Resturants in Marine Park, Brooklyn:0\n",
      "( 85 / 306 ) Thai Resturants in Clinton Hill, Brooklyn:2\n",
      "( 86 / 306 ) Thai Resturants in Sea Gate, Brooklyn:0\n",
      "( 87 / 306 ) Thai Resturants in Downtown, Brooklyn:1\n",
      "( 88 / 306 ) Thai Resturants in Boerum Hill, Brooklyn:1\n",
      "( 89 / 306 ) Thai Resturants in Prospect Lefferts Gardens, Brooklyn:1\n",
      "( 90 / 306 ) Thai Resturants in Ocean Hill, Brooklyn:0\n",
      "( 91 / 306 ) Thai Resturants in City Line, Brooklyn:0\n",
      "( 92 / 306 ) Thai Resturants in Bergen Beach, Brooklyn:0\n",
      "( 93 / 306 ) Thai Resturants in Midwood, Brooklyn:0\n",
      "( 94 / 306 ) Thai Resturants in Prospect Park South, Brooklyn:0\n",
      "( 95 / 306 ) Thai Resturants in Georgetown, Brooklyn:0\n",
      "( 96 / 306 ) Thai Resturants in East Williamsburg, Brooklyn:0\n",
      "( 97 / 306 ) Thai Resturants in North Side, Brooklyn:0\n",
      "( 98 / 306 ) Thai Resturants in South Side, Brooklyn:0\n",
      "( 99 / 306 ) Thai Resturants in Ocean Parkway, Brooklyn:0\n",
      "( 100 / 306 ) Thai Resturants in Fort Hamilton, Brooklyn:0\n",
      "( 101 / 306 ) Thai Resturants in Chinatown, Manhattan:1\n",
      "( 102 / 306 ) Thai Resturants in Washington Heights, Manhattan:0\n",
      "( 103 / 306 ) Thai Resturants in Inwood, Manhattan:0\n",
      "( 104 / 306 ) Thai Resturants in Hamilton Heights, Manhattan:0\n",
      "( 105 / 306 ) Thai Resturants in Manhattanville, Manhattan:0\n",
      "( 106 / 306 ) Thai Resturants in Central Harlem, Manhattan:0\n",
      "( 107 / 306 ) Thai Resturants in East Harlem, Manhattan:3\n",
      "( 108 / 306 ) Thai Resturants in Upper East Side, Manhattan:0\n",
      "( 109 / 306 ) Thai Resturants in Yorkville, Manhattan:1\n",
      "( 110 / 306 ) Thai Resturants in Lenox Hill, Manhattan:2\n",
      "( 111 / 306 ) Thai Resturants in Roosevelt Island, Manhattan:0\n",
      "( 112 / 306 ) Thai Resturants in Upper West Side, Manhattan:1\n",
      "( 113 / 306 ) Thai Resturants in Lincoln Square, Manhattan:0\n",
      "( 114 / 306 ) Thai Resturants in Clinton, Manhattan:0\n",
      "( 115 / 306 ) Thai Resturants in Midtown, Manhattan:0\n",
      "( 116 / 306 ) Thai Resturants in Murray Hill, Manhattan:0\n",
      "( 117 / 306 ) Thai Resturants in Chelsea, Manhattan:0\n",
      "( 118 / 306 ) Thai Resturants in Greenwich Village, Manhattan:0\n",
      "( 119 / 306 ) Thai Resturants in East Village, Manhattan:0\n",
      "( 120 / 306 ) Thai Resturants in Lower East Side, Manhattan:0\n",
      "( 121 / 306 ) Thai Resturants in Tribeca, Manhattan:0\n",
      "( 122 / 306 ) Thai Resturants in Little Italy, Manhattan:2\n",
      "( 123 / 306 ) Thai Resturants in Soho, Manhattan:0\n",
      "( 124 / 306 ) Thai Resturants in West Village, Manhattan:0\n",
      "( 125 / 306 ) Thai Resturants in Manhattan Valley, Manhattan:1\n",
      "( 126 / 306 ) Thai Resturants in Morningside Heights, Manhattan:0\n",
      "( 127 / 306 ) Thai Resturants in Gramercy, Manhattan:0\n",
      "( 128 / 306 ) Thai Resturants in Battery Park City, Manhattan:0\n",
      "( 129 / 306 ) Thai Resturants in Financial District, Manhattan:0\n",
      "( 130 / 306 ) Thai Resturants in Astoria, Queens:0\n",
      "( 131 / 306 ) Thai Resturants in Woodside, Queens:4\n",
      "( 132 / 306 ) Thai Resturants in Jackson Heights, Queens:2\n",
      "( 133 / 306 ) Thai Resturants in Elmhurst, Queens:9\n",
      "( 134 / 306 ) Thai Resturants in Howard Beach, Queens:0\n",
      "( 135 / 306 ) Thai Resturants in Corona, Queens:0\n",
      "( 136 / 306 ) Thai Resturants in Forest Hills, Queens:1\n",
      "( 137 / 306 ) Thai Resturants in Kew Gardens, Queens:0\n",
      "( 138 / 306 ) Thai Resturants in Richmond Hill, Queens:0\n",
      "( 139 / 306 ) Thai Resturants in Flushing, Queens:0\n",
      "( 140 / 306 ) Thai Resturants in Long Island City, Queens:0\n",
      "( 141 / 306 ) Thai Resturants in Sunnyside, Queens:0\n",
      "( 142 / 306 ) Thai Resturants in East Elmhurst, Queens:0\n",
      "( 143 / 306 ) Thai Resturants in Maspeth, Queens:0\n",
      "( 144 / 306 ) Thai Resturants in Ridgewood, Queens:0\n",
      "( 145 / 306 ) Thai Resturants in Glendale, Queens:0\n",
      "( 146 / 306 ) Thai Resturants in Rego Park, Queens:0\n",
      "( 147 / 306 ) Thai Resturants in Woodhaven, Queens:0\n"
     ]
    },
    {
     "name": "stdout",
     "output_type": "stream",
     "text": [
      "( 148 / 306 ) Thai Resturants in Ozone Park, Queens:0\n",
      "( 149 / 306 ) Thai Resturants in South Ozone Park, Queens:1\n",
      "( 150 / 306 ) Thai Resturants in College Point, Queens:0\n",
      "( 151 / 306 ) Thai Resturants in Whitestone, Queens:0\n",
      "( 152 / 306 ) Thai Resturants in Bayside, Queens:1\n",
      "( 153 / 306 ) Thai Resturants in Auburndale, Queens:1\n",
      "( 154 / 306 ) Thai Resturants in Little Neck, Queens:1\n",
      "( 155 / 306 ) Thai Resturants in Douglaston, Queens:0\n",
      "( 156 / 306 ) Thai Resturants in Glen Oaks, Queens:0\n",
      "( 157 / 306 ) Thai Resturants in Bellerose, Queens:0\n",
      "( 158 / 306 ) Thai Resturants in Kew Gardens Hills, Queens:0\n",
      "( 159 / 306 ) Thai Resturants in Fresh Meadows, Queens:1\n",
      "( 160 / 306 ) Thai Resturants in Briarwood, Queens:0\n",
      "( 161 / 306 ) Thai Resturants in Jamaica Center, Queens:0\n",
      "( 162 / 306 ) Thai Resturants in Oakland Gardens, Queens:0\n",
      "( 163 / 306 ) Thai Resturants in Queens Village, Queens:0\n",
      "( 164 / 306 ) Thai Resturants in Hollis, Queens:1\n",
      "( 165 / 306 ) Thai Resturants in South Jamaica, Queens:0\n",
      "( 166 / 306 ) Thai Resturants in St. Albans, Queens:0\n",
      "( 167 / 306 ) Thai Resturants in Rochdale, Queens:1\n",
      "( 168 / 306 ) Thai Resturants in Springfield Gardens, Queens:0\n",
      "( 169 / 306 ) Thai Resturants in Cambria Heights, Queens:0\n",
      "( 170 / 306 ) Thai Resturants in Rosedale, Queens:0\n",
      "( 171 / 306 ) Thai Resturants in Far Rockaway, Queens:0\n",
      "( 172 / 306 ) Thai Resturants in Broad Channel, Queens:0\n",
      "( 173 / 306 ) Thai Resturants in Breezy Point, Queens:0\n",
      "( 174 / 306 ) Thai Resturants in Steinway, Queens:0\n",
      "( 175 / 306 ) Thai Resturants in Beechhurst, Queens:0\n",
      "( 176 / 306 ) Thai Resturants in Bay Terrace, Queens:0\n",
      "( 177 / 306 ) Thai Resturants in Edgemere, Queens:0\n",
      "( 178 / 306 ) Thai Resturants in Arverne, Queens:0\n",
      "( 179 / 306 ) Thai Resturants in Rockaway Beach, Queens:0\n",
      "( 180 / 306 ) Thai Resturants in Neponsit, Queens:0\n",
      "( 181 / 306 ) Thai Resturants in Murray Hill, Queens:0\n",
      "( 182 / 306 ) Thai Resturants in Floral Park, Queens:0\n",
      "( 183 / 306 ) Thai Resturants in Holliswood, Queens:1\n",
      "( 184 / 306 ) Thai Resturants in Jamaica Estates, Queens:0\n",
      "( 185 / 306 ) Thai Resturants in Queensboro Hill, Queens:0\n",
      "( 186 / 306 ) Thai Resturants in Hillcrest, Queens:0\n",
      "( 187 / 306 ) Thai Resturants in Ravenswood, Queens:0\n",
      "( 188 / 306 ) Thai Resturants in Lindenwood, Queens:0\n",
      "( 189 / 306 ) Thai Resturants in Laurelton, Queens:0\n",
      "( 190 / 306 ) Thai Resturants in Lefrak City, Queens:0\n",
      "( 191 / 306 ) Thai Resturants in Belle Harbor, Queens:0\n",
      "( 192 / 306 ) Thai Resturants in Rockaway Park, Queens:0\n",
      "( 193 / 306 ) Thai Resturants in Somerville, Queens:0\n",
      "( 194 / 306 ) Thai Resturants in Brookville, Queens:0\n",
      "( 195 / 306 ) Thai Resturants in Bellaire, Queens:0\n",
      "( 196 / 306 ) Thai Resturants in North Corona, Queens:0\n",
      "( 197 / 306 ) Thai Resturants in Forest Hills Gardens, Queens:1\n",
      "( 198 / 306 ) Thai Resturants in St. George, Staten Island:0\n",
      "( 199 / 306 ) Thai Resturants in New Brighton, Staten Island:0\n",
      "( 200 / 306 ) Thai Resturants in Stapleton, Staten Island:0\n",
      "( 201 / 306 ) Thai Resturants in Rosebank, Staten Island:0\n",
      "( 202 / 306 ) Thai Resturants in West Brighton, Staten Island:0\n",
      "( 203 / 306 ) Thai Resturants in Grymes Hill, Staten Island:0\n",
      "( 204 / 306 ) Thai Resturants in Todt Hill, Staten Island:0\n",
      "( 205 / 306 ) Thai Resturants in South Beach, Staten Island:0\n",
      "( 206 / 306 ) Thai Resturants in Port Richmond, Staten Island:1\n",
      "( 207 / 306 ) Thai Resturants in Mariner's Harbor, Staten Island:1\n",
      "( 208 / 306 ) Thai Resturants in Port Ivory, Staten Island:0\n",
      "( 209 / 306 ) Thai Resturants in Castleton Corners, Staten Island:0\n",
      "( 210 / 306 ) Thai Resturants in New Springville, Staten Island:0\n",
      "( 211 / 306 ) Thai Resturants in Travis, Staten Island:0\n",
      "( 212 / 306 ) Thai Resturants in New Dorp, Staten Island:0\n",
      "( 213 / 306 ) Thai Resturants in Oakwood, Staten Island:0\n",
      "( 214 / 306 ) Thai Resturants in Great Kills, Staten Island:0\n",
      "( 215 / 306 ) Thai Resturants in Eltingville, Staten Island:0\n",
      "( 216 / 306 ) Thai Resturants in Annadale, Staten Island:0\n",
      "( 217 / 306 ) Thai Resturants in Woodrow, Staten Island:0\n",
      "( 218 / 306 ) Thai Resturants in Tottenville, Staten Island:0\n",
      "( 219 / 306 ) Thai Resturants in Tompkinsville, Staten Island:0\n",
      "( 220 / 306 ) Thai Resturants in Silver Lake, Staten Island:0\n",
      "( 221 / 306 ) Thai Resturants in Sunnyside, Staten Island:0\n",
      "( 222 / 306 ) Thai Resturants in Ditmas Park, Brooklyn:0\n",
      "( 223 / 306 ) Thai Resturants in Wingate, Brooklyn:0\n",
      "( 224 / 306 ) Thai Resturants in Rugby, Brooklyn:0\n",
      "( 225 / 306 ) Thai Resturants in Park Hill, Staten Island:0\n",
      "( 226 / 306 ) Thai Resturants in Westerleigh, Staten Island:1\n",
      "( 227 / 306 ) Thai Resturants in Graniteville, Staten Island:0\n",
      "( 228 / 306 ) Thai Resturants in Arlington, Staten Island:0\n",
      "( 229 / 306 ) Thai Resturants in Arrochar, Staten Island:0\n",
      "( 230 / 306 ) Thai Resturants in Grasmere, Staten Island:0\n",
      "( 231 / 306 ) Thai Resturants in Old Town, Staten Island:0\n",
      "( 232 / 306 ) Thai Resturants in Dongan Hills, Staten Island:0\n",
      "( 233 / 306 ) Thai Resturants in Midland Beach, Staten Island:0\n",
      "( 234 / 306 ) Thai Resturants in Grant City, Staten Island:0\n",
      "( 235 / 306 ) Thai Resturants in New Dorp Beach, Staten Island:0\n",
      "( 236 / 306 ) Thai Resturants in Bay Terrace, Staten Island:0\n",
      "( 237 / 306 ) Thai Resturants in Huguenot, Staten Island:0\n",
      "( 238 / 306 ) Thai Resturants in Pleasant Plains, Staten Island:0\n",
      "( 239 / 306 ) Thai Resturants in Butler Manor, Staten Island:0\n",
      "( 240 / 306 ) Thai Resturants in Charleston, Staten Island:0\n",
      "( 241 / 306 ) Thai Resturants in Rossville, Staten Island:0\n",
      "( 242 / 306 ) Thai Resturants in Arden Heights, Staten Island:0\n",
      "( 243 / 306 ) Thai Resturants in Greenridge, Staten Island:0\n",
      "( 244 / 306 ) Thai Resturants in Heartland Village, Staten Island:0\n",
      "( 245 / 306 ) Thai Resturants in Chelsea, Staten Island:0\n",
      "( 246 / 306 ) Thai Resturants in Bloomfield, Staten Island:0\n",
      "( 247 / 306 ) Thai Resturants in Bulls Head, Staten Island:1\n",
      "( 248 / 306 ) Thai Resturants in Carnegie Hill, Manhattan:0\n",
      "( 249 / 306 ) Thai Resturants in Noho, Manhattan:0\n",
      "( 250 / 306 ) Thai Resturants in Civic Center, Manhattan:0\n",
      "( 251 / 306 ) Thai Resturants in Midtown South, Manhattan:0\n",
      "( 252 / 306 ) Thai Resturants in Richmond Town, Staten Island:0\n",
      "( 253 / 306 ) Thai Resturants in Shore Acres, Staten Island:0\n",
      "( 254 / 306 ) Thai Resturants in Clifton, Staten Island:0\n",
      "( 255 / 306 ) Thai Resturants in Concord, Staten Island:0\n",
      "( 256 / 306 ) Thai Resturants in Emerson Hill, Staten Island:0\n",
      "( 257 / 306 ) Thai Resturants in Randall Manor, Staten Island:0\n",
      "( 258 / 306 ) Thai Resturants in Howland Hook, Staten Island:0\n",
      "( 259 / 306 ) Thai Resturants in Elm Park, Staten Island:1\n",
      "( 260 / 306 ) Thai Resturants in Remsen Village, Brooklyn:0\n",
      "( 261 / 306 ) Thai Resturants in New Lots, Brooklyn:0\n",
      "( 262 / 306 ) Thai Resturants in Paerdegat Basin, Brooklyn:0\n",
      "( 263 / 306 ) Thai Resturants in Mill Basin, Brooklyn:0\n",
      "( 264 / 306 ) Thai Resturants in Jamaica Hills, Queens:1\n",
      "( 265 / 306 ) Thai Resturants in Utopia, Queens:0\n",
      "( 266 / 306 ) Thai Resturants in Pomonok, Queens:0\n",
      "( 267 / 306 ) Thai Resturants in Astoria Heights, Queens:0\n",
      "( 268 / 306 ) Thai Resturants in Claremont Village, Bronx:0\n",
      "( 269 / 306 ) Thai Resturants in Concourse Village, Bronx:0\n",
      "( 270 / 306 ) Thai Resturants in Mount Eden, Bronx:0\n",
      "( 271 / 306 ) Thai Resturants in Mount Hope, Bronx:0\n",
      "( 272 / 306 ) Thai Resturants in Sutton Place, Manhattan:1\n",
      "( 273 / 306 ) Thai Resturants in Hunters Point, Queens:1\n",
      "( 274 / 306 ) Thai Resturants in Turtle Bay, Manhattan:1\n",
      "( 275 / 306 ) Thai Resturants in Tudor City, Manhattan:1\n",
      "( 276 / 306 ) Thai Resturants in Stuyvesant Town, Manhattan:0\n",
      "( 277 / 306 ) Thai Resturants in Flatiron, Manhattan:0\n",
      "( 278 / 306 ) Thai Resturants in Sunnyside Gardens, Queens:0\n",
      "( 279 / 306 ) Thai Resturants in Blissville, Queens:0\n",
      "( 280 / 306 ) Thai Resturants in Fulton Ferry, Brooklyn:0\n",
      "( 281 / 306 ) Thai Resturants in Vinegar Hill, Brooklyn:0\n",
      "( 282 / 306 ) Thai Resturants in Weeksville, Brooklyn:0\n",
      "( 283 / 306 ) Thai Resturants in Broadway Junction, Brooklyn:0\n",
      "( 284 / 306 ) Thai Resturants in Dumbo, Brooklyn:0\n",
      "( 285 / 306 ) Thai Resturants in Manor Heights, Staten Island:0\n",
      "( 286 / 306 ) Thai Resturants in Willowbrook, Staten Island:0\n",
      "( 287 / 306 ) Thai Resturants in Sandy Ground, Staten Island:0\n",
      "( 288 / 306 ) Thai Resturants in Egbertville, Staten Island:0\n"
     ]
    },
    {
     "name": "stdout",
     "output_type": "stream",
     "text": [
      "( 289 / 306 ) Thai Resturants in Roxbury, Queens:0\n",
      "( 290 / 306 ) Thai Resturants in Homecrest, Brooklyn:0\n",
      "( 291 / 306 ) Thai Resturants in Middle Village, Queens:0\n",
      "( 292 / 306 ) Thai Resturants in Prince's Bay, Staten Island:0\n",
      "( 293 / 306 ) Thai Resturants in Lighthouse Hill, Staten Island:0\n",
      "( 294 / 306 ) Thai Resturants in Richmond Valley, Staten Island:0\n",
      "( 295 / 306 ) Thai Resturants in Malba, Queens:0\n",
      "( 296 / 306 ) Thai Resturants in Highland Park, Brooklyn:0\n",
      "( 297 / 306 ) Thai Resturants in Madison, Brooklyn:0\n",
      "( 298 / 306 ) Thai Resturants in Bronxdale, Bronx:0\n",
      "( 299 / 306 ) Thai Resturants in Allerton, Bronx:0\n",
      "( 300 / 306 ) Thai Resturants in Kingsbridge Heights, Bronx:0\n",
      "( 301 / 306 ) Thai Resturants in Erasmus, Brooklyn:0\n",
      "( 302 / 306 ) Thai Resturants in Hudson Yards, Manhattan:0\n",
      "( 303 / 306 ) Thai Resturants in Hammels, Queens:0\n",
      "( 304 / 306 ) Thai Resturants in Bayswater, Queens:0\n",
      "( 305 / 306 ) Thai Resturants in Queensbridge, Queens:0\n",
      "( 306 / 306 ) Thai Resturants in Fox Hills, Staten Island:0\n"
     ]
    }
   ],
   "source": [
    "# prepare neighborhood list that contains Thai resturants\n",
    "column_names=['Borough', 'Neighborhood', 'ID','Name']\n",
    "thai_rest_ny=pd.DataFrame(columns=column_names)\n",
    "count=1\n",
    "for row in neighborhoods.values.tolist():\n",
    "    Borough, Neighborhood, Latitude, Longitude=row\n",
    "    venues = get_venues(Latitude,Longitude)\n",
    "    thai_resturants=venues[venues['Category']=='Thai Restaurant']   \n",
    "    print('(',count,'/',len(neighborhoods),')','Thai Resturants in '+Neighborhood+', '+Borough+':'+str(len(thai_resturants)))\n",
    "    for resturant_detail in thai_resturants.values.tolist():\n",
    "        id, name , category=resturant_detail\n",
    "        thai_rest_ny = thai_rest_ny.append({'Borough': Borough,\n",
    "                                                'Neighborhood': Neighborhood, \n",
    "                                                'ID': id,\n",
    "                                                'Name' : name\n",
    "                                               }, ignore_index=True)\n",
    "    count+=1"
   ]
  },
  {
   "cell_type": "markdown",
   "metadata": {},
   "source": [
    "Let's see the example of Thai restuarants."
   ]
  },
  {
   "cell_type": "code",
   "execution_count": 14,
   "metadata": {},
   "outputs": [
    {
     "data": {
      "text/html": [
       "<div>\n",
       "<style scoped>\n",
       "    .dataframe tbody tr th:only-of-type {\n",
       "        vertical-align: middle;\n",
       "    }\n",
       "\n",
       "    .dataframe tbody tr th {\n",
       "        vertical-align: top;\n",
       "    }\n",
       "\n",
       "    .dataframe thead th {\n",
       "        text-align: right;\n",
       "    }\n",
       "</style>\n",
       "<table border=\"1\" class=\"dataframe\">\n",
       "  <thead>\n",
       "    <tr style=\"text-align: right;\">\n",
       "      <th></th>\n",
       "      <th>Borough</th>\n",
       "      <th>Neighborhood</th>\n",
       "      <th>ID</th>\n",
       "      <th>Name</th>\n",
       "    </tr>\n",
       "  </thead>\n",
       "  <tbody>\n",
       "    <tr>\n",
       "      <th>0</th>\n",
       "      <td>Bronx</td>\n",
       "      <td>Woodlawn</td>\n",
       "      <td>4dc5d0b47d8b14fb463525e9</td>\n",
       "      <td>Accent Thai</td>\n",
       "    </tr>\n",
       "    <tr>\n",
       "      <th>1</th>\n",
       "      <td>Bronx</td>\n",
       "      <td>Parkchester</td>\n",
       "      <td>5585c948498e0bd8a8a706f1</td>\n",
       "      <td>Thai Cuisine</td>\n",
       "    </tr>\n",
       "    <tr>\n",
       "      <th>2</th>\n",
       "      <td>Bronx</td>\n",
       "      <td>Van Nest</td>\n",
       "      <td>5585c948498e0bd8a8a706f1</td>\n",
       "      <td>Thai Cuisine</td>\n",
       "    </tr>\n",
       "    <tr>\n",
       "      <th>3</th>\n",
       "      <td>Bronx</td>\n",
       "      <td>North Riverdale</td>\n",
       "      <td>4dc5d0b47d8b14fb463525e9</td>\n",
       "      <td>Accent Thai</td>\n",
       "    </tr>\n",
       "    <tr>\n",
       "      <th>4</th>\n",
       "      <td>Bronx</td>\n",
       "      <td>Pelham Bay</td>\n",
       "      <td>4b4c90d3f964a52046b626e3</td>\n",
       "      <td>Honey's Thai Pavilion</td>\n",
       "    </tr>\n",
       "  </tbody>\n",
       "</table>\n",
       "</div>"
      ],
      "text/plain": [
       "  Borough     Neighborhood                        ID                   Name\n",
       "0   Bronx         Woodlawn  4dc5d0b47d8b14fb463525e9            Accent Thai\n",
       "1   Bronx      Parkchester  5585c948498e0bd8a8a706f1           Thai Cuisine\n",
       "2   Bronx         Van Nest  5585c948498e0bd8a8a706f1           Thai Cuisine\n",
       "3   Bronx  North Riverdale  4dc5d0b47d8b14fb463525e9            Accent Thai\n",
       "4   Bronx       Pelham Bay  4b4c90d3f964a52046b626e3  Honey's Thai Pavilion"
      ]
     },
     "execution_count": 14,
     "metadata": {},
     "output_type": "execute_result"
    }
   ],
   "source": [
    "thai_rest_ny.head()"
   ]
  },
  {
   "cell_type": "markdown",
   "metadata": {},
   "source": [
    "We found 66 Thai restuarants in New York City."
   ]
  },
  {
   "cell_type": "code",
   "execution_count": 15,
   "metadata": {},
   "outputs": [
    {
     "data": {
      "text/plain": [
       "(66, 4)"
      ]
     },
     "execution_count": 15,
     "metadata": {},
     "output_type": "execute_result"
    }
   ],
   "source": [
    "thai_rest_ny.shape"
   ]
  },
  {
   "cell_type": "markdown",
   "metadata": {},
   "source": [
    "Keep data into csv to prevent API limit."
   ]
  },
  {
   "cell_type": "code",
   "execution_count": 39,
   "metadata": {},
   "outputs": [],
   "source": [
    "thai_rest_ny.to_csv('thai_rest_ny.csv', index=False)"
   ]
  },
  {
   "cell_type": "code",
   "execution_count": 40,
   "metadata": {},
   "outputs": [],
   "source": [
    "thai_rest_ny_csv = pd.read_csv('thai_rest_ny.csv')"
   ]
  },
  {
   "cell_type": "code",
   "execution_count": 41,
   "metadata": {},
   "outputs": [
    {
     "data": {
      "text/html": [
       "<div>\n",
       "<style scoped>\n",
       "    .dataframe tbody tr th:only-of-type {\n",
       "        vertical-align: middle;\n",
       "    }\n",
       "\n",
       "    .dataframe tbody tr th {\n",
       "        vertical-align: top;\n",
       "    }\n",
       "\n",
       "    .dataframe thead th {\n",
       "        text-align: right;\n",
       "    }\n",
       "</style>\n",
       "<table border=\"1\" class=\"dataframe\">\n",
       "  <thead>\n",
       "    <tr style=\"text-align: right;\">\n",
       "      <th></th>\n",
       "      <th>Borough</th>\n",
       "      <th>Neighborhood</th>\n",
       "      <th>ID</th>\n",
       "      <th>Name</th>\n",
       "    </tr>\n",
       "  </thead>\n",
       "  <tbody>\n",
       "    <tr>\n",
       "      <th>0</th>\n",
       "      <td>Bronx</td>\n",
       "      <td>Woodlawn</td>\n",
       "      <td>4dc5d0b47d8b14fb463525e9</td>\n",
       "      <td>Accent Thai</td>\n",
       "    </tr>\n",
       "    <tr>\n",
       "      <th>1</th>\n",
       "      <td>Bronx</td>\n",
       "      <td>Parkchester</td>\n",
       "      <td>5585c948498e0bd8a8a706f1</td>\n",
       "      <td>Thai Cuisine</td>\n",
       "    </tr>\n",
       "    <tr>\n",
       "      <th>2</th>\n",
       "      <td>Bronx</td>\n",
       "      <td>Van Nest</td>\n",
       "      <td>5585c948498e0bd8a8a706f1</td>\n",
       "      <td>Thai Cuisine</td>\n",
       "    </tr>\n",
       "    <tr>\n",
       "      <th>3</th>\n",
       "      <td>Bronx</td>\n",
       "      <td>North Riverdale</td>\n",
       "      <td>4dc5d0b47d8b14fb463525e9</td>\n",
       "      <td>Accent Thai</td>\n",
       "    </tr>\n",
       "    <tr>\n",
       "      <th>4</th>\n",
       "      <td>Bronx</td>\n",
       "      <td>Pelham Bay</td>\n",
       "      <td>4b4c90d3f964a52046b626e3</td>\n",
       "      <td>Honey's Thai Pavilion</td>\n",
       "    </tr>\n",
       "  </tbody>\n",
       "</table>\n",
       "</div>"
      ],
      "text/plain": [
       "  Borough     Neighborhood                        ID                   Name\n",
       "0   Bronx         Woodlawn  4dc5d0b47d8b14fb463525e9            Accent Thai\n",
       "1   Bronx      Parkchester  5585c948498e0bd8a8a706f1           Thai Cuisine\n",
       "2   Bronx         Van Nest  5585c948498e0bd8a8a706f1           Thai Cuisine\n",
       "3   Bronx  North Riverdale  4dc5d0b47d8b14fb463525e9            Accent Thai\n",
       "4   Bronx       Pelham Bay  4b4c90d3f964a52046b626e3  Honey's Thai Pavilion"
      ]
     },
     "execution_count": 41,
     "metadata": {},
     "output_type": "execute_result"
    }
   ],
   "source": [
    "thai_rest_ny_csv.head()"
   ]
  },
  {
   "cell_type": "code",
   "execution_count": 42,
   "metadata": {},
   "outputs": [
    {
     "data": {
      "text/plain": [
       "(66, 4)"
      ]
     },
     "execution_count": 42,
     "metadata": {},
     "output_type": "execute_result"
    }
   ],
   "source": [
    "thai_rest_ny_csv.shape"
   ]
  },
  {
   "cell_type": "markdown",
   "metadata": {},
   "source": [
    "Let's see which borough has the most Thai restaurants."
   ]
  },
  {
   "cell_type": "code",
   "execution_count": 43,
   "metadata": {},
   "outputs": [
    {
     "data": {
      "image/png": "[encoded data removed]",
      "text/plain": [
       "<Figure size 900x500 with 1 Axes>"
      ]
     },
     "metadata": {
      "needs_background": "light"
     },
     "output_type": "display_data"
    }
   ],
   "source": [
    "plt.figure(figsize=(9,5), dpi = 100)\n",
    "# title\n",
    "plt.title('Number of Thai Resturants for each Borough in New York City')\n",
    "#On x-axis\n",
    "plt.xlabel('Borough', fontsize = 15)\n",
    "#On y-axis\n",
    "plt.ylabel('No.of Thai Resturants', fontsize=15)\n",
    "#giving a bar plot\n",
    "thai_rest_ny_csv.groupby('Borough')['ID'].count().plot(kind='bar')\n",
    "#legend\n",
    "plt.legend()\n",
    "#displays the plot\n",
    "plt.show()"
   ]
  },
  {
   "cell_type": "markdown",
   "metadata": {},
   "source": [
    "We found that Queens has the most Thai restaurants in New York City. Then let's see which neighborhood has the most Thai restaurants."
   ]
  },
  {
   "cell_type": "code",
   "execution_count": 24,
   "metadata": {},
   "outputs": [
    {
     "data": {
      "image/png": "[encoded data removed]",
      "text/plain": [
       "<Figure size 900x500 with 1 Axes>"
      ]
     },
     "metadata": {
      "needs_background": "light"
     },
     "output_type": "display_data"
    }
   ],
   "source": [
    "plt.figure(figsize=(9,5), dpi = 100)\n",
    "# title\n",
    "plt.title('Number of Thai Resturants for each Neighborhood in New York City')\n",
    "#On x-axis\n",
    "plt.xlabel('Neighborhood', fontsize = 15)\n",
    "#On y-axis\n",
    "plt.ylabel('No.of Thai Resturants', fontsize=15)\n",
    "#giving a bar plot\n",
    "thai_rest_ny.groupby('Neighborhood')['ID'].count().nlargest(5).plot(kind='bar')\n",
    "#legend\n",
    "plt.legend()\n",
    "#displays the plot\n",
    "plt.show()"
   ]
  },
  {
   "cell_type": "markdown",
   "metadata": {},
   "source": [
    "So, we found that Elmhurst has 9 Thai restaurants which is the most in New York City."
   ]
  },
  {
   "cell_type": "code",
   "execution_count": 44,
   "metadata": {},
   "outputs": [
    {
     "data": {
      "text/html": [
       "<div>\n",
       "<style scoped>\n",
       "    .dataframe tbody tr th:only-of-type {\n",
       "        vertical-align: middle;\n",
       "    }\n",
       "\n",
       "    .dataframe tbody tr th {\n",
       "        vertical-align: top;\n",
       "    }\n",
       "\n",
       "    .dataframe thead th {\n",
       "        text-align: right;\n",
       "    }\n",
       "</style>\n",
       "<table border=\"1\" class=\"dataframe\">\n",
       "  <thead>\n",
       "    <tr style=\"text-align: right;\">\n",
       "      <th></th>\n",
       "      <th>Borough</th>\n",
       "      <th>Neighborhood</th>\n",
       "      <th>ID</th>\n",
       "      <th>Name</th>\n",
       "    </tr>\n",
       "  </thead>\n",
       "  <tbody>\n",
       "    <tr>\n",
       "      <th>37</th>\n",
       "      <td>Queens</td>\n",
       "      <td>Elmhurst</td>\n",
       "      <td>52f693e6498ed9d2a3fbad75</td>\n",
       "      <td>Eim Khao Mun Kai Elmhurst อิ่ม ข้าวมันไก่เอ็มเ...</td>\n",
       "    </tr>\n",
       "    <tr>\n",
       "      <th>38</th>\n",
       "      <td>Queens</td>\n",
       "      <td>Elmhurst</td>\n",
       "      <td>5abad6379de23b5eeb077b04</td>\n",
       "      <td>Lamoon</td>\n",
       "    </tr>\n",
       "    <tr>\n",
       "      <th>39</th>\n",
       "      <td>Queens</td>\n",
       "      <td>Elmhurst</td>\n",
       "      <td>56e210f7cd102122a9fb1d1b</td>\n",
       "      <td>Dek Sen</td>\n",
       "    </tr>\n",
       "    <tr>\n",
       "      <th>40</th>\n",
       "      <td>Queens</td>\n",
       "      <td>Elmhurst</td>\n",
       "      <td>4ad5173cf964a520c90121e3</td>\n",
       "      <td>Chao Thai ร้านชาวไทย</td>\n",
       "    </tr>\n",
       "    <tr>\n",
       "      <th>41</th>\n",
       "      <td>Queens</td>\n",
       "      <td>Elmhurst</td>\n",
       "      <td>4b26f895f964a5209d8324e3</td>\n",
       "      <td>Ayada Thai</td>\n",
       "    </tr>\n",
       "    <tr>\n",
       "      <th>42</th>\n",
       "      <td>Queens</td>\n",
       "      <td>Elmhurst</td>\n",
       "      <td>593f6541123a19687791b390</td>\n",
       "      <td>Hug Esan NYC</td>\n",
       "    </tr>\n",
       "    <tr>\n",
       "      <th>43</th>\n",
       "      <td>Queens</td>\n",
       "      <td>Elmhurst</td>\n",
       "      <td>531372e9498ebd3be2888afc</td>\n",
       "      <td>Khao Kang ข้าวแกง</td>\n",
       "    </tr>\n",
       "    <tr>\n",
       "      <th>44</th>\n",
       "      <td>Queens</td>\n",
       "      <td>Elmhurst</td>\n",
       "      <td>4ad15d63f964a5203ede20e3</td>\n",
       "      <td>Spicy Shallot</td>\n",
       "    </tr>\n",
       "    <tr>\n",
       "      <th>45</th>\n",
       "      <td>Queens</td>\n",
       "      <td>Elmhurst</td>\n",
       "      <td>53af884e498e0a4a4943f670</td>\n",
       "      <td>Kitchen 79</td>\n",
       "    </tr>\n",
       "  </tbody>\n",
       "</table>\n",
       "</div>"
      ],
      "text/plain": [
       "   Borough Neighborhood                        ID  \\\n",
       "37  Queens     Elmhurst  52f693e6498ed9d2a3fbad75   \n",
       "38  Queens     Elmhurst  5abad6379de23b5eeb077b04   \n",
       "39  Queens     Elmhurst  56e210f7cd102122a9fb1d1b   \n",
       "40  Queens     Elmhurst  4ad5173cf964a520c90121e3   \n",
       "41  Queens     Elmhurst  4b26f895f964a5209d8324e3   \n",
       "42  Queens     Elmhurst  593f6541123a19687791b390   \n",
       "43  Queens     Elmhurst  531372e9498ebd3be2888afc   \n",
       "44  Queens     Elmhurst  4ad15d63f964a5203ede20e3   \n",
       "45  Queens     Elmhurst  53af884e498e0a4a4943f670   \n",
       "\n",
       "                                                 Name  \n",
       "37  Eim Khao Mun Kai Elmhurst อิ่ม ข้าวมันไก่เอ็มเ...  \n",
       "38                                             Lamoon  \n",
       "39                                            Dek Sen  \n",
       "40                               Chao Thai ร้านชาวไทย  \n",
       "41                                         Ayada Thai  \n",
       "42                                       Hug Esan NYC  \n",
       "43                                  Khao Kang ข้าวแกง  \n",
       "44                                      Spicy Shallot  \n",
       "45                                         Kitchen 79  "
      ]
     },
     "execution_count": 44,
     "metadata": {},
     "output_type": "execute_result"
    }
   ],
   "source": [
    "thai_rest_ny_csv[thai_rest_ny_csv['Neighborhood']=='Elmhurst']"
   ]
  },
  {
   "cell_type": "markdown",
   "metadata": {},
   "source": [
    "Let's get more insight on each restaurant (Rating, Tips, Like) from Foursquare API."
   ]
  },
  {
   "cell_type": "code",
   "execution_count": 28,
   "metadata": {},
   "outputs": [],
   "source": [
    "def get_venue_details(venue_id):\n",
    "    #set variables\n",
    "    CLIENT_ID = '2YZ3UDVZXAD4ODFRVNPW0FJ1D31LRWJH1RTFTH5GG0YNIQJE' # your Foursquare ID\n",
    "    CLIENT_SECRET = 'ZM45XKPONM4XO2AYSNVNKCDZVC24QF1YRLZBVM32N52VDYKC' # your Foursquare Secret\n",
    "    VERSION = '20200424' # Foursquare API version\n",
    "    \n",
    "    #url to fetch data from foursquare api\n",
    "    url = 'https://api.foursquare.com/v2/venues/{}?&client_id={}&client_secret={}&v={}'.format(\n",
    "            venue_id,\n",
    "            CLIENT_ID, \n",
    "            CLIENT_SECRET, \n",
    "            VERSION)\n",
    "    \n",
    "    # get all the data\n",
    "    results = requests.get(url).json()\n",
    "    venue_data=results['response']['venue']\n",
    "    venue_details=[]\n",
    "    try:\n",
    "        venue_id=venue_data['id']\n",
    "        venue_name=venue_data['name']\n",
    "        venue_likes=venue_data['likes']['count']\n",
    "        venue_rating=venue_data['rating']\n",
    "        venue_tips=venue_data['tips']['count']\n",
    "        venue_details.append([venue_id,venue_name,venue_likes,venue_rating,venue_tips])\n",
    "    except KeyError:\n",
    "        pass\n",
    "        \n",
    "    column_names=['ID','Name','Likes','Rating','Tips']\n",
    "    df = pd.DataFrame(venue_details,columns=column_names)\n",
    "    return df"
   ]
  },
  {
   "cell_type": "code",
   "execution_count": 45,
   "metadata": {},
   "outputs": [
    {
     "name": "stdout",
     "output_type": "stream",
     "text": [
      "                         ID         Name  Likes  Rating  Tips\n",
      "0  4dc5d0b47d8b14fb463525e9  Accent Thai     14     8.4     4\n",
      "( 1 / 66 ) processed\n",
      "                         ID          Name  Likes  Rating  Tips\n",
      "0  5585c948498e0bd8a8a706f1  Thai Cuisine     17     7.5     1\n",
      "( 2 / 66 ) processed\n",
      "                         ID          Name  Likes  Rating  Tips\n",
      "0  5585c948498e0bd8a8a706f1  Thai Cuisine     17     7.5     1\n",
      "( 3 / 66 ) processed\n",
      "                         ID         Name  Likes  Rating  Tips\n",
      "0  4dc5d0b47d8b14fb463525e9  Accent Thai     14     8.4     4\n",
      "( 4 / 66 ) processed\n",
      "                         ID                   Name  Likes  Rating  Tips\n",
      "0  4b4c90d3f964a52046b626e3  Honey's Thai Pavilion     19     7.2    28\n",
      "( 5 / 66 ) processed\n",
      "                         ID          Name  Likes  Rating  Tips\n",
      "0  596ffbcadee77066f36be772  Ruammit Thai     24     8.5     5\n",
      "( 6 / 66 ) processed\n",
      "                         ID                  Name  Likes  Rating  Tips\n",
      "0  54daa265498e58e310cae373  Sawasde Thai Cooking     19     8.7     5\n",
      "( 7 / 66 ) processed\n",
      "                         ID               Name  Likes  Rating  Tips\n",
      "0  5bbf7c31418686002c49a6a1  Thai Farm Kitchen     34     8.9    13\n",
      "( 8 / 66 ) processed\n",
      "                         ID        Name  Likes  Rating  Tips\n",
      "0  4b36a0f5f964a5207b3925e3  To Be Thai     18     8.1    16\n",
      "( 9 / 66 ) processed\n",
      "                         ID  Name  Likes  Rating  Tips\n",
      "0  57117904498eea6297e41d0a  Muse     42     8.1     7\n",
      "( 10 / 66 ) processed\n",
      "                         ID                  Name  Likes  Rating  Tips\n",
      "0  476f8da1f964a520044d1fe3  Lantern Thai Kitchen    155     7.8    72\n",
      "( 11 / 66 ) processed\n",
      "                         ID       Name  Likes  Rating  Tips\n",
      "0  59985da3da5e5606a926b53d  Ugly Baby    299     8.7    77\n",
      "( 12 / 66 ) processed\n",
      "                         ID   Name  Likes  Rating  Tips\n",
      "0  5a959bf0646e38268740806b  Boran     27     8.5     9\n",
      "( 13 / 66 ) processed\n",
      "                         ID       Name  Likes  Rating  Tips\n",
      "0  59985da3da5e5606a926b53d  Ugly Baby    299     8.7    77\n",
      "( 14 / 66 ) processed\n",
      "                         ID   Name  Likes  Rating  Tips\n",
      "0  5a959bf0646e38268740806b  Boran     27     8.5     9\n",
      "( 15 / 66 ) processed\n",
      "                         ID       Name  Likes  Rating  Tips\n",
      "0  54ea1fc3498e51bac940c79e  Thaiholic     70     8.7    28\n",
      "( 16 / 66 ) processed\n",
      "                         ID      Name  Likes  Rating  Tips\n",
      "0  4a709d9ff964a520f6d71fe3  Thai 101     50     8.1    38\n",
      "( 17 / 66 ) processed\n",
      "                         ID       Name  Likes  Rating  Tips\n",
      "0  5c56083dc58ed7002c3255d0  Charm Kao     39     9.0     7\n",
      "( 18 / 66 ) processed\n",
      "                         ID       Name  Likes  Rating  Tips\n",
      "0  5c56083dc58ed7002c3255d0  Charm Kao     39     9.0     7\n",
      "( 19 / 66 ) processed\n",
      "                         ID             Name  Likes  Rating  Tips\n",
      "0  5d4f31a92ada380008a49b7f  Amy Thai Bistro     11     8.8     7\n",
      "( 20 / 66 ) processed\n",
      "                         ID   Name  Likes  Rating  Tips\n",
      "0  5cc4e9d0c876c8002c3010cb  Wayla    126     9.2    26\n",
      "( 21 / 66 ) processed\n",
      "                         ID   Name  Likes  Rating  Tips\n",
      "0  55a85a66498e68da40bc7212  Malii     20     8.6     9\n",
      "( 22 / 66 ) processed\n",
      "                         ID                  Name  Likes  Rating  Tips\n",
      "0  5a68fb506336be407ef635ab  Bangklyn East Harlem      6     8.0     2\n",
      "( 23 / 66 ) processed\n",
      "                         ID                      Name  Likes  Rating  Tips\n",
      "0  5303fc3c11d250deaaf46b56  Absolute Thai Restaurant      7     8.1     4\n",
      "( 24 / 66 ) processed\n",
      "                         ID                       Name  Likes  Rating  Tips\n",
      "0  57f81d9e498e82d3766ccce8  PuTawn Local Thai Kitchen     26     8.9     7\n",
      "( 25 / 66 ) processed\n",
      "                         ID     Name  Likes  Rating  Tips\n",
      "0  52be229211d2aabfe6f24d20  Up Thai    616     9.1   160\n",
      "( 26 / 66 ) processed\n",
      "                         ID                  Name  Likes  Rating  Tips\n",
      "0  5997796d603d2a7019b8c58e  THEP Thai Restaurant     82     9.0    22\n",
      "( 27 / 66 ) processed\n",
      "                         ID               Name  Likes  Rating  Tips\n",
      "0  42951180f964a52045241fe3  Land Thai Kitchen    341     8.4   146\n",
      "( 28 / 66 ) processed\n",
      "                         ID        Name  Likes  Rating  Tips\n",
      "0  5e46e2ec5791a10008c55728  Thai Diner     15     8.6     3\n",
      "( 29 / 66 ) processed\n",
      "                         ID         Name  Likes  Rating  Tips\n",
      "0  516863b1011ca6684e37a88f  Uncle Boons   1016     9.1   330\n",
      "( 30 / 66 ) processed\n",
      "                         ID         Name  Likes  Rating  Tips\n",
      "0  49dfbfabf964a52009611fe3  Thai Market    393     8.2   124\n",
      "( 31 / 66 ) processed\n",
      "                         ID        Name  Likes  Rating  Tips\n",
      "0  3fd66200f964a5204ef11ee3  SriPraPhai    766     8.9   357\n",
      "( 32 / 66 ) processed\n",
      "                         ID                     Name  Likes  Rating  Tips\n",
      "0  4a7f6626f964a520e8f31fe3  Thailand's Center Point     23     7.6    21\n",
      "( 33 / 66 ) processed\n",
      "                         ID              Name  Likes  Rating  Tips\n",
      "0  4bedd3e8a40fc928d193820c  Sweet Basil Thai     16     7.6    13\n",
      "( 34 / 66 ) processed\n",
      "                         ID      Name  Likes  Rating  Tips\n",
      "0  57608fb1498e9796802dc2b4  Jaew Hon     22     8.5     3\n",
      "( 35 / 66 ) processed\n",
      "                         ID        Name  Likes  Rating  Tips\n",
      "0  5424a7a2498ec9a9cdb36746  Black Thai     25     8.6     7\n",
      "( 36 / 66 ) processed\n",
      "                         ID          Name  Likes  Rating  Tips\n",
      "0  560f2343498e6d1819390cb4  Sompong Thai     10     7.8     2\n",
      "( 37 / 66 ) processed\n",
      "                         ID  \\\n",
      "0  52f693e6498ed9d2a3fbad75   \n",
      "\n",
      "                                                Name  Likes  Rating  Tips  \n",
      "0  Eim Khao Mun Kai Elmhurst อิ่ม ข้าวมันไก่เอ็มเ...     98     8.5    26  \n",
      "( 38 / 66 ) processed\n",
      "                         ID    Name  Likes  Rating  Tips\n",
      "0  5abad6379de23b5eeb077b04  Lamoon     32     8.1     8\n",
      "( 39 / 66 ) processed\n",
      "                         ID     Name  Likes  Rating  Tips\n",
      "0  56e210f7cd102122a9fb1d1b  Dek Sen     32     8.4     3\n",
      "( 40 / 66 ) processed\n",
      "                         ID                  Name  Likes  Rating  Tips\n",
      "0  4ad5173cf964a520c90121e3  Chao Thai ร้านชาวไทย     83     8.2    48\n",
      "( 41 / 66 ) processed\n",
      "                         ID        Name  Likes  Rating  Tips\n",
      "0  4b26f895f964a5209d8324e3  Ayada Thai    290     9.0   124\n",
      "( 42 / 66 ) processed\n",
      "                         ID          Name  Likes  Rating  Tips\n",
      "0  593f6541123a19687791b390  Hug Esan NYC     22     8.7     3\n",
      "( 43 / 66 ) processed\n",
      "                         ID               Name  Likes  Rating  Tips\n",
      "0  531372e9498ebd3be2888afc  Khao Kang ข้าวแกง     64     8.3    23\n",
      "( 44 / 66 ) processed\n",
      "                         ID           Name  Likes  Rating  Tips\n",
      "0  4ad15d63f964a5203ede20e3  Spicy Shallot     94     8.1    59\n",
      "( 45 / 66 ) processed\n",
      "                         ID        Name  Likes  Rating  Tips\n",
      "0  53af884e498e0a4a4943f670  Kitchen 79     63     8.3    12\n",
      "( 46 / 66 ) processed\n",
      "                         ID             Name  Likes  Rating  Tips\n",
      "0  46b1ef0df964a520a0491fe3  Bangkok Cuisine     61     8.5    33\n",
      "( 47 / 66 ) processed\n",
      "                         ID                  Name  Likes  Rating  Tips\n",
      "0  505e482fe4b0ad0a3ed7c2e8  Nanking Asian fusion     30     8.9    12\n",
      "( 48 / 66 ) processed\n",
      "                         ID                 Name  Likes  Rating  Tips\n",
      "0  4b799160f964a52001022fe3  Erawan Thai Cuisine     46     7.9    18\n",
      "( 49 / 66 ) processed\n",
      "                         ID                  Name  Likes  Rating  Tips\n",
      "0  49fdbd6cf964a520256f1fe3  BKNY Thai Restaurant    162     8.6    75\n",
      "( 50 / 66 ) processed\n",
      "                         ID       Name  Likes  Rating  Tips\n",
      "0  548101bd498ea6af4be43c86  Krung Tep     27     8.9     8\n",
      "( 51 / 66 ) processed\n",
      "                         ID        Name  Likes  Rating  Tips\n",
      "0  5ae3a6fda30619002c1490a9  Kin'd Thai     14     8.2     1\n",
      "( 52 / 66 ) processed\n",
      "                         ID        Name  Likes  Rating  Tips\n",
      "0  5ae3a6fda30619002c1490a9  Kin'd Thai     14     8.2     1\n",
      "( 53 / 66 ) processed\n",
      "                         ID                  Name  Likes  Rating  Tips\n",
      "0  505e482fe4b0ad0a3ed7c2e8  Nanking Asian fusion     30     8.9    12\n",
      "( 54 / 66 ) processed\n",
      "                         ID        Name  Likes  Rating  Tips\n",
      "0  5ae3a6fda30619002c1490a9  Kin'd Thai     14     8.2     1\n",
      "( 55 / 66 ) processed\n"
     ]
    },
    {
     "name": "stdout",
     "output_type": "stream",
     "text": [
      "                         ID             Name  Likes  Rating  Tips\n",
      "0  46b1ef0df964a520a0491fe3  Bangkok Cuisine     61     8.5    33\n",
      "( 56 / 66 ) processed\n",
      "                         ID                 Name  Likes  Rating  Tips\n",
      "0  4b7c698af964a520bc912fe3  Forest Thai Cuisine     13     7.7    20\n",
      "( 57 / 66 ) processed\n",
      "                         ID                 Name  Likes  Rating  Tips\n",
      "0  4b7c698af964a520bc912fe3  Forest Thai Cuisine     13     7.7    20\n",
      "( 58 / 66 ) processed\n",
      "                         ID                 Name  Likes  Rating  Tips\n",
      "0  4b7c698af964a520bc912fe3  Forest Thai Cuisine     13     7.7    20\n",
      "( 59 / 66 ) processed\n",
      "                         ID                      Name  Likes  Rating  Tips\n",
      "0  51734440e4b093690645e66b  Empire East Richmond Ave      7     7.3     5\n",
      "( 60 / 66 ) processed\n",
      "                         ID                 Name  Likes  Rating  Tips\n",
      "0  4b7c698af964a520bc912fe3  Forest Thai Cuisine     13     7.7    20\n",
      "( 61 / 66 ) processed\n",
      "                         ID        Name  Likes  Rating  Tips\n",
      "0  51cd0030498e1874e3954776  Amina Thai     12     7.0     4\n",
      "( 62 / 66 ) processed\n",
      "                         ID           Name  Likes  Rating  Tips\n",
      "0  4b19ae35f964a520d9e123e3  Luscious Thai     27     8.0    20\n",
      "( 63 / 66 ) processed\n",
      "                         ID     Name  Likes  Rating  Tips\n",
      "0  49cfd074f964a520ce5a1fe3  Tuk Tuk    251     8.4   118\n",
      "( 64 / 66 ) processed\n",
      "                         ID               Name  Likes  Rating  Tips\n",
      "0  548cb1a2498e7cd8fd9f98ce  Herbs Thai Bistro     41     8.1    14\n",
      "( 65 / 66 ) processed\n",
      "                         ID              Name  Likes  Rating  Tips\n",
      "0  5424bb1b498ecea0c85b6b43  Lan Larb Midtown     79     8.5    31\n",
      "( 66 / 66 ) processed\n"
     ]
    }
   ],
   "source": [
    "# prepare neighborhood list that contains indian resturants\n",
    "column_names=['Borough', 'Neighborhood', 'ID','Name','Likes','Rating','Tips']\n",
    "thai_rest_stats_ny=pd.DataFrame(columns=column_names)\n",
    "count=1\n",
    "\n",
    "\n",
    "for row in thai_rest_ny_csv.values.tolist():\n",
    "    Borough,Neighborhood,ID,Name=row\n",
    "    try:\n",
    "        venue_details=get_venue_details(ID)\n",
    "        print(venue_details)\n",
    "        id,name,likes,rating,tips=venue_details.values.tolist()[0]\n",
    "    except IndexError:\n",
    "        print('No data available for id=',ID)\n",
    "        # we will assign 0 value for these resturants as they may have been \n",
    "        #recently opened or details does not exist in FourSquare Database\n",
    "        id,name,likes,rating,tips=[0]*5\n",
    "    print('(',count,'/',len(thai_rest_ny_csv),')','processed')\n",
    "    thai_rest_stats_ny = thai_rest_stats_ny.append({'Borough': Borough,\n",
    "                                                'Neighborhood': Neighborhood, \n",
    "                                                'ID': id,\n",
    "                                                'Name' : name,\n",
    "                                                'Likes' : likes,\n",
    "                                                'Rating' : rating,\n",
    "                                                'Tips' : tips\n",
    "                                               }, ignore_index=True)\n",
    "    count+=1"
   ]
  },
  {
   "cell_type": "markdown",
   "metadata": {},
   "source": [
    "Let's see the example of the data."
   ]
  },
  {
   "cell_type": "code",
   "execution_count": 46,
   "metadata": {},
   "outputs": [
    {
     "data": {
      "text/html": [
       "<div>\n",
       "<style scoped>\n",
       "    .dataframe tbody tr th:only-of-type {\n",
       "        vertical-align: middle;\n",
       "    }\n",
       "\n",
       "    .dataframe tbody tr th {\n",
       "        vertical-align: top;\n",
       "    }\n",
       "\n",
       "    .dataframe thead th {\n",
       "        text-align: right;\n",
       "    }\n",
       "</style>\n",
       "<table border=\"1\" class=\"dataframe\">\n",
       "  <thead>\n",
       "    <tr style=\"text-align: right;\">\n",
       "      <th></th>\n",
       "      <th>Borough</th>\n",
       "      <th>Neighborhood</th>\n",
       "      <th>ID</th>\n",
       "      <th>Name</th>\n",
       "      <th>Likes</th>\n",
       "      <th>Rating</th>\n",
       "      <th>Tips</th>\n",
       "    </tr>\n",
       "  </thead>\n",
       "  <tbody>\n",
       "    <tr>\n",
       "      <th>0</th>\n",
       "      <td>Bronx</td>\n",
       "      <td>Woodlawn</td>\n",
       "      <td>4dc5d0b47d8b14fb463525e9</td>\n",
       "      <td>Accent Thai</td>\n",
       "      <td>14</td>\n",
       "      <td>8.4</td>\n",
       "      <td>4</td>\n",
       "    </tr>\n",
       "    <tr>\n",
       "      <th>1</th>\n",
       "      <td>Bronx</td>\n",
       "      <td>Parkchester</td>\n",
       "      <td>5585c948498e0bd8a8a706f1</td>\n",
       "      <td>Thai Cuisine</td>\n",
       "      <td>17</td>\n",
       "      <td>7.5</td>\n",
       "      <td>1</td>\n",
       "    </tr>\n",
       "    <tr>\n",
       "      <th>2</th>\n",
       "      <td>Bronx</td>\n",
       "      <td>Van Nest</td>\n",
       "      <td>5585c948498e0bd8a8a706f1</td>\n",
       "      <td>Thai Cuisine</td>\n",
       "      <td>17</td>\n",
       "      <td>7.5</td>\n",
       "      <td>1</td>\n",
       "    </tr>\n",
       "    <tr>\n",
       "      <th>3</th>\n",
       "      <td>Bronx</td>\n",
       "      <td>North Riverdale</td>\n",
       "      <td>4dc5d0b47d8b14fb463525e9</td>\n",
       "      <td>Accent Thai</td>\n",
       "      <td>14</td>\n",
       "      <td>8.4</td>\n",
       "      <td>4</td>\n",
       "    </tr>\n",
       "    <tr>\n",
       "      <th>4</th>\n",
       "      <td>Bronx</td>\n",
       "      <td>Pelham Bay</td>\n",
       "      <td>4b4c90d3f964a52046b626e3</td>\n",
       "      <td>Honey's Thai Pavilion</td>\n",
       "      <td>19</td>\n",
       "      <td>7.2</td>\n",
       "      <td>28</td>\n",
       "    </tr>\n",
       "  </tbody>\n",
       "</table>\n",
       "</div>"
      ],
      "text/plain": [
       "  Borough     Neighborhood                        ID                   Name  \\\n",
       "0   Bronx         Woodlawn  4dc5d0b47d8b14fb463525e9            Accent Thai   \n",
       "1   Bronx      Parkchester  5585c948498e0bd8a8a706f1           Thai Cuisine   \n",
       "2   Bronx         Van Nest  5585c948498e0bd8a8a706f1           Thai Cuisine   \n",
       "3   Bronx  North Riverdale  4dc5d0b47d8b14fb463525e9            Accent Thai   \n",
       "4   Bronx       Pelham Bay  4b4c90d3f964a52046b626e3  Honey's Thai Pavilion   \n",
       "\n",
       "  Likes  Rating Tips  \n",
       "0    14     8.4    4  \n",
       "1    17     7.5    1  \n",
       "2    17     7.5    1  \n",
       "3    14     8.4    4  \n",
       "4    19     7.2   28  "
      ]
     },
     "execution_count": 46,
     "metadata": {},
     "output_type": "execute_result"
    }
   ],
   "source": [
    "thai_rest_stats_ny.head()"
   ]
  },
  {
   "cell_type": "code",
   "execution_count": 47,
   "metadata": {},
   "outputs": [
    {
     "data": {
      "text/plain": [
       "(66, 7)"
      ]
     },
     "execution_count": 47,
     "metadata": {},
     "output_type": "execute_result"
    }
   ],
   "source": [
    "thai_rest_stats_ny.shape"
   ]
  },
  {
   "cell_type": "code",
   "execution_count": 48,
   "metadata": {},
   "outputs": [],
   "source": [
    "thai_rest_stats_ny.to_csv('thai_rest_stats_ny.csv', index=False)"
   ]
  },
  {
   "cell_type": "code",
   "execution_count": 49,
   "metadata": {},
   "outputs": [],
   "source": [
    "thai_rest_stats_ny_csv=pd.read_csv('thai_rest_stats_ny.csv')"
   ]
  },
  {
   "cell_type": "code",
   "execution_count": 50,
   "metadata": {
    "scrolled": true
   },
   "outputs": [
    {
     "data": {
      "text/html": [
       "<div>\n",
       "<style scoped>\n",
       "    .dataframe tbody tr th:only-of-type {\n",
       "        vertical-align: middle;\n",
       "    }\n",
       "\n",
       "    .dataframe tbody tr th {\n",
       "        vertical-align: top;\n",
       "    }\n",
       "\n",
       "    .dataframe thead th {\n",
       "        text-align: right;\n",
       "    }\n",
       "</style>\n",
       "<table border=\"1\" class=\"dataframe\">\n",
       "  <thead>\n",
       "    <tr style=\"text-align: right;\">\n",
       "      <th></th>\n",
       "      <th>Borough</th>\n",
       "      <th>Neighborhood</th>\n",
       "      <th>ID</th>\n",
       "      <th>Name</th>\n",
       "      <th>Likes</th>\n",
       "      <th>Rating</th>\n",
       "      <th>Tips</th>\n",
       "    </tr>\n",
       "  </thead>\n",
       "  <tbody>\n",
       "    <tr>\n",
       "      <th>0</th>\n",
       "      <td>Bronx</td>\n",
       "      <td>Woodlawn</td>\n",
       "      <td>4dc5d0b47d8b14fb463525e9</td>\n",
       "      <td>Accent Thai</td>\n",
       "      <td>14</td>\n",
       "      <td>8.4</td>\n",
       "      <td>4</td>\n",
       "    </tr>\n",
       "    <tr>\n",
       "      <th>1</th>\n",
       "      <td>Bronx</td>\n",
       "      <td>Parkchester</td>\n",
       "      <td>5585c948498e0bd8a8a706f1</td>\n",
       "      <td>Thai Cuisine</td>\n",
       "      <td>17</td>\n",
       "      <td>7.5</td>\n",
       "      <td>1</td>\n",
       "    </tr>\n",
       "    <tr>\n",
       "      <th>2</th>\n",
       "      <td>Bronx</td>\n",
       "      <td>Van Nest</td>\n",
       "      <td>5585c948498e0bd8a8a706f1</td>\n",
       "      <td>Thai Cuisine</td>\n",
       "      <td>17</td>\n",
       "      <td>7.5</td>\n",
       "      <td>1</td>\n",
       "    </tr>\n",
       "    <tr>\n",
       "      <th>3</th>\n",
       "      <td>Bronx</td>\n",
       "      <td>North Riverdale</td>\n",
       "      <td>4dc5d0b47d8b14fb463525e9</td>\n",
       "      <td>Accent Thai</td>\n",
       "      <td>14</td>\n",
       "      <td>8.4</td>\n",
       "      <td>4</td>\n",
       "    </tr>\n",
       "    <tr>\n",
       "      <th>4</th>\n",
       "      <td>Bronx</td>\n",
       "      <td>Pelham Bay</td>\n",
       "      <td>4b4c90d3f964a52046b626e3</td>\n",
       "      <td>Honey's Thai Pavilion</td>\n",
       "      <td>19</td>\n",
       "      <td>7.2</td>\n",
       "      <td>28</td>\n",
       "    </tr>\n",
       "  </tbody>\n",
       "</table>\n",
       "</div>"
      ],
      "text/plain": [
       "  Borough     Neighborhood                        ID                   Name  \\\n",
       "0   Bronx         Woodlawn  4dc5d0b47d8b14fb463525e9            Accent Thai   \n",
       "1   Bronx      Parkchester  5585c948498e0bd8a8a706f1           Thai Cuisine   \n",
       "2   Bronx         Van Nest  5585c948498e0bd8a8a706f1           Thai Cuisine   \n",
       "3   Bronx  North Riverdale  4dc5d0b47d8b14fb463525e9            Accent Thai   \n",
       "4   Bronx       Pelham Bay  4b4c90d3f964a52046b626e3  Honey's Thai Pavilion   \n",
       "\n",
       "   Likes  Rating  Tips  \n",
       "0     14     8.4     4  \n",
       "1     17     7.5     1  \n",
       "2     17     7.5     1  \n",
       "3     14     8.4     4  \n",
       "4     19     7.2    28  "
      ]
     },
     "execution_count": 50,
     "metadata": {},
     "output_type": "execute_result"
    }
   ],
   "source": [
    "thai_rest_stats_ny_csv.head()"
   ]
  },
  {
   "cell_type": "code",
   "execution_count": 51,
   "metadata": {
    "scrolled": false
   },
   "outputs": [
    {
     "data": {
      "text/plain": [
       "(66, 7)"
      ]
     },
     "execution_count": 51,
     "metadata": {},
     "output_type": "execute_result"
    }
   ],
   "source": [
    "thai_rest_stats_ny_csv.shape"
   ]
  },
  {
   "cell_type": "code",
   "execution_count": 52,
   "metadata": {},
   "outputs": [
    {
     "name": "stdout",
     "output_type": "stream",
     "text": [
      "<class 'pandas.core.frame.DataFrame'>\n",
      "RangeIndex: 66 entries, 0 to 65\n",
      "Data columns (total 7 columns):\n",
      " #   Column        Non-Null Count  Dtype  \n",
      "---  ------        --------------  -----  \n",
      " 0   Borough       66 non-null     object \n",
      " 1   Neighborhood  66 non-null     object \n",
      " 2   ID            66 non-null     object \n",
      " 3   Name          66 non-null     object \n",
      " 4   Likes         66 non-null     int64  \n",
      " 5   Rating        66 non-null     float64\n",
      " 6   Tips          66 non-null     int64  \n",
      "dtypes: float64(1), int64(2), object(4)\n",
      "memory usage: 3.7+ KB\n"
     ]
    }
   ],
   "source": [
    "thai_rest_stats_ny_csv.info()"
   ]
  },
  {
   "cell_type": "markdown",
   "metadata": {},
   "source": [
    "Convert tips data type from string to float for easy to analyze."
   ]
  },
  {
   "cell_type": "code",
   "execution_count": 53,
   "metadata": {},
   "outputs": [],
   "source": [
    "thai_rest_stats_ny['Likes']=thai_rest_stats_ny['Likes'].astype('float64')\n",
    "thai_rest_stats_ny['Tips']=thai_rest_stats_ny['Tips'].astype('float64')"
   ]
  },
  {
   "cell_type": "code",
   "execution_count": 55,
   "metadata": {
    "scrolled": true
   },
   "outputs": [
    {
     "name": "stdout",
     "output_type": "stream",
     "text": [
      "<class 'pandas.core.frame.DataFrame'>\n",
      "RangeIndex: 66 entries, 0 to 65\n",
      "Data columns (total 7 columns):\n",
      " #   Column        Non-Null Count  Dtype  \n",
      "---  ------        --------------  -----  \n",
      " 0   Borough       66 non-null     object \n",
      " 1   Neighborhood  66 non-null     object \n",
      " 2   ID            66 non-null     object \n",
      " 3   Name          66 non-null     object \n",
      " 4   Likes         66 non-null     float64\n",
      " 5   Rating        66 non-null     float64\n",
      " 6   Tips          66 non-null     float64\n",
      "dtypes: float64(3), object(4)\n",
      "memory usage: 3.7+ KB\n"
     ]
    }
   ],
   "source": [
    "thai_rest_stats_ny.info()"
   ]
  },
  {
   "cell_type": "markdown",
   "metadata": {},
   "source": [
    "Restaurant with maximum Likes"
   ]
  },
  {
   "cell_type": "code",
   "execution_count": 57,
   "metadata": {},
   "outputs": [
    {
     "data": {
      "text/plain": [
       "Borough                        Manhattan\n",
       "Neighborhood                Little Italy\n",
       "ID              516863b1011ca6684e37a88f\n",
       "Name                         Uncle Boons\n",
       "Likes                               1016\n",
       "Rating                               9.1\n",
       "Tips                                 330\n",
       "Name: 29, dtype: object"
      ]
     },
     "execution_count": 57,
     "metadata": {},
     "output_type": "execute_result"
    }
   ],
   "source": [
    "# Restaurant with maximum Likes\n",
    "thai_rest_stats_ny.iloc[thai_rest_stats_ny['Likes'].idxmax()]"
   ]
  },
  {
   "cell_type": "markdown",
   "metadata": {},
   "source": [
    "Restaurant with maximum Rating"
   ]
  },
  {
   "cell_type": "code",
   "execution_count": 58,
   "metadata": {},
   "outputs": [
    {
     "data": {
      "text/plain": [
       "Borough                        Manhattan\n",
       "Neighborhood                   Chinatown\n",
       "ID              5cc4e9d0c876c8002c3010cb\n",
       "Name                               Wayla\n",
       "Likes                                126\n",
       "Rating                               9.2\n",
       "Tips                                  26\n",
       "Name: 20, dtype: object"
      ]
     },
     "execution_count": 58,
     "metadata": {},
     "output_type": "execute_result"
    }
   ],
   "source": [
    "# Restaurant with maximum Rating\n",
    "thai_rest_stats_ny.iloc[thai_rest_stats_ny['Rating'].idxmax()]"
   ]
  },
  {
   "cell_type": "markdown",
   "metadata": {},
   "source": [
    "Restaurant with maximum Tips"
   ]
  },
  {
   "cell_type": "code",
   "execution_count": 59,
   "metadata": {},
   "outputs": [
    {
     "data": {
      "text/plain": [
       "Borough                           Queens\n",
       "Neighborhood                    Woodside\n",
       "ID              3fd66200f964a5204ef11ee3\n",
       "Name                          SriPraPhai\n",
       "Likes                                766\n",
       "Rating                               8.9\n",
       "Tips                                 357\n",
       "Name: 31, dtype: object"
      ]
     },
     "execution_count": 59,
     "metadata": {},
     "output_type": "execute_result"
    }
   ],
   "source": [
    "# Restaurant with maximum Tips\n",
    "thai_rest_stats_ny.iloc[thai_rest_stats_ny['Tips'].idxmax()]"
   ]
  },
  {
   "cell_type": "markdown",
   "metadata": {},
   "source": [
    "Let's summarize average rating of Thai restaurants in each neighborhood."
   ]
  },
  {
   "cell_type": "code",
   "execution_count": 60,
   "metadata": {},
   "outputs": [],
   "source": [
    "ny_neighborhood_stats=thai_rest_stats_ny.groupby('Neighborhood',as_index=False).mean()[['Neighborhood','Rating']]\n",
    "ny_neighborhood_stats.columns=['Neighborhood','Average Rating']"
   ]
  },
  {
   "cell_type": "code",
   "execution_count": 61,
   "metadata": {
    "scrolled": true
   },
   "outputs": [
    {
     "data": {
      "text/html": [
       "<div>\n",
       "<style scoped>\n",
       "    .dataframe tbody tr th:only-of-type {\n",
       "        vertical-align: middle;\n",
       "    }\n",
       "\n",
       "    .dataframe tbody tr th {\n",
       "        vertical-align: top;\n",
       "    }\n",
       "\n",
       "    .dataframe thead th {\n",
       "        text-align: right;\n",
       "    }\n",
       "</style>\n",
       "<table border=\"1\" class=\"dataframe\">\n",
       "  <thead>\n",
       "    <tr style=\"text-align: right;\">\n",
       "      <th></th>\n",
       "      <th>Neighborhood</th>\n",
       "      <th>Average Rating</th>\n",
       "    </tr>\n",
       "  </thead>\n",
       "  <tbody>\n",
       "    <tr>\n",
       "      <th>6</th>\n",
       "      <td>Chinatown</td>\n",
       "      <td>9.20</td>\n",
       "    </tr>\n",
       "    <tr>\n",
       "      <th>23</th>\n",
       "      <td>Lenox Hill</td>\n",
       "      <td>9.05</td>\n",
       "    </tr>\n",
       "    <tr>\n",
       "      <th>2</th>\n",
       "      <td>Boerum Hill</td>\n",
       "      <td>9.00</td>\n",
       "    </tr>\n",
       "    <tr>\n",
       "      <th>9</th>\n",
       "      <td>Downtown</td>\n",
       "      <td>9.00</td>\n",
       "    </tr>\n",
       "    <tr>\n",
       "      <th>44</th>\n",
       "      <td>Yorkville</td>\n",
       "      <td>8.90</td>\n",
       "    </tr>\n",
       "    <tr>\n",
       "      <th>35</th>\n",
       "      <td>South Ozone Park</td>\n",
       "      <td>8.90</td>\n",
       "    </tr>\n",
       "    <tr>\n",
       "      <th>34</th>\n",
       "      <td>Rochdale</td>\n",
       "      <td>8.90</td>\n",
       "    </tr>\n",
       "    <tr>\n",
       "      <th>25</th>\n",
       "      <td>Little Neck</td>\n",
       "      <td>8.90</td>\n",
       "    </tr>\n",
       "    <tr>\n",
       "      <th>24</th>\n",
       "      <td>Little Italy</td>\n",
       "      <td>8.85</td>\n",
       "    </tr>\n",
       "    <tr>\n",
       "      <th>33</th>\n",
       "      <td>Prospect Lefferts Gardens</td>\n",
       "      <td>8.80</td>\n",
       "    </tr>\n",
       "  </tbody>\n",
       "</table>\n",
       "</div>"
      ],
      "text/plain": [
       "                 Neighborhood  Average Rating\n",
       "6                   Chinatown            9.20\n",
       "23                 Lenox Hill            9.05\n",
       "2                 Boerum Hill            9.00\n",
       "9                    Downtown            9.00\n",
       "44                  Yorkville            8.90\n",
       "35           South Ozone Park            8.90\n",
       "34                   Rochdale            8.90\n",
       "25                Little Neck            8.90\n",
       "24               Little Italy            8.85\n",
       "33  Prospect Lefferts Gardens            8.80"
      ]
     },
     "execution_count": 61,
     "metadata": {},
     "output_type": "execute_result"
    }
   ],
   "source": [
    "ny_neighborhood_stats.sort_values(['Average Rating'],ascending=False).head(10)"
   ]
  },
  {
   "cell_type": "markdown",
   "metadata": {},
   "source": [
    "Let's summarize average rating of Thai restuarants in each borough."
   ]
  },
  {
   "cell_type": "code",
   "execution_count": 62,
   "metadata": {},
   "outputs": [],
   "source": [
    "ny_borough_stats=thai_rest_stats_ny.groupby('Borough',as_index=False).mean()[['Borough','Rating']]\n",
    "ny_borough_stats.columns=['Borough','Average Rating']"
   ]
  },
  {
   "cell_type": "code",
   "execution_count": 63,
   "metadata": {
    "scrolled": true
   },
   "outputs": [
    {
     "data": {
      "text/html": [
       "<div>\n",
       "<style scoped>\n",
       "    .dataframe tbody tr th:only-of-type {\n",
       "        vertical-align: middle;\n",
       "    }\n",
       "\n",
       "    .dataframe tbody tr th {\n",
       "        vertical-align: top;\n",
       "    }\n",
       "\n",
       "    .dataframe thead th {\n",
       "        text-align: right;\n",
       "    }\n",
       "</style>\n",
       "<table border=\"1\" class=\"dataframe\">\n",
       "  <thead>\n",
       "    <tr style=\"text-align: right;\">\n",
       "      <th></th>\n",
       "      <th>Borough</th>\n",
       "      <th>Average Rating</th>\n",
       "    </tr>\n",
       "  </thead>\n",
       "  <tbody>\n",
       "    <tr>\n",
       "      <th>2</th>\n",
       "      <td>Manhattan</td>\n",
       "      <td>8.557143</td>\n",
       "    </tr>\n",
       "    <tr>\n",
       "      <th>1</th>\n",
       "      <td>Brooklyn</td>\n",
       "      <td>8.540000</td>\n",
       "    </tr>\n",
       "    <tr>\n",
       "      <th>3</th>\n",
       "      <td>Queens</td>\n",
       "      <td>8.325926</td>\n",
       "    </tr>\n",
       "    <tr>\n",
       "      <th>0</th>\n",
       "      <td>Bronx</td>\n",
       "      <td>7.800000</td>\n",
       "    </tr>\n",
       "    <tr>\n",
       "      <th>4</th>\n",
       "      <td>Staten Island</td>\n",
       "      <td>7.620000</td>\n",
       "    </tr>\n",
       "  </tbody>\n",
       "</table>\n",
       "</div>"
      ],
      "text/plain": [
       "         Borough  Average Rating\n",
       "2      Manhattan        8.557143\n",
       "1       Brooklyn        8.540000\n",
       "3         Queens        8.325926\n",
       "0          Bronx        7.800000\n",
       "4  Staten Island        7.620000"
      ]
     },
     "execution_count": 63,
     "metadata": {},
     "output_type": "execute_result"
    }
   ],
   "source": [
    "ny_borough_stats.sort_values(['Average Rating'],ascending=False).head()"
   ]
  },
  {
   "cell_type": "markdown",
   "metadata": {},
   "source": [
    "Visualize average rating of Thai restuarants for each borough."
   ]
  },
  {
   "cell_type": "code",
   "execution_count": 78,
   "metadata": {},
   "outputs": [
    {
     "data": {
      "image/png": "[encoded data removed]",
      "text/plain": [
       "<Figure size 900x500 with 1 Axes>"
      ]
     },
     "metadata": {
      "needs_background": "light"
     },
     "output_type": "display_data"
    }
   ],
   "source": [
    "plt.figure(figsize=(9,5), dpi = 100)\n",
    "# title\n",
    "plt.title('Average rating of Thai Resturants for each Borough')\n",
    "#On x-axis\n",
    "plt.xlabel('Borough', fontsize = 15)\n",
    "#On y-axis\n",
    "plt.ylabel('Average Rating', fontsize=15)\n",
    "#giving a bar plot\n",
    "thai_rest_stats_ny.groupby('Borough').mean()['Rating'].plot(kind='bar')\n",
    "#legend\n",
    "plt.legend()\n",
    "#displays the plot\n",
    "plt.show()"
   ]
  },
  {
   "cell_type": "markdown",
   "metadata": {},
   "source": [
    "Select only neighborhoods which average rating more than 9.0"
   ]
  },
  {
   "cell_type": "code",
   "execution_count": 65,
   "metadata": {},
   "outputs": [],
   "source": [
    "ny_neighborhood_stats=ny_neighborhood_stats[ny_neighborhood_stats['Average Rating']>=9.0]"
   ]
  },
  {
   "cell_type": "code",
   "execution_count": 66,
   "metadata": {},
   "outputs": [
    {
     "data": {
      "text/html": [
       "<div>\n",
       "<style scoped>\n",
       "    .dataframe tbody tr th:only-of-type {\n",
       "        vertical-align: middle;\n",
       "    }\n",
       "\n",
       "    .dataframe tbody tr th {\n",
       "        vertical-align: top;\n",
       "    }\n",
       "\n",
       "    .dataframe thead th {\n",
       "        text-align: right;\n",
       "    }\n",
       "</style>\n",
       "<table border=\"1\" class=\"dataframe\">\n",
       "  <thead>\n",
       "    <tr style=\"text-align: right;\">\n",
       "      <th></th>\n",
       "      <th>Neighborhood</th>\n",
       "      <th>Average Rating</th>\n",
       "    </tr>\n",
       "  </thead>\n",
       "  <tbody>\n",
       "    <tr>\n",
       "      <th>2</th>\n",
       "      <td>Boerum Hill</td>\n",
       "      <td>9.00</td>\n",
       "    </tr>\n",
       "    <tr>\n",
       "      <th>6</th>\n",
       "      <td>Chinatown</td>\n",
       "      <td>9.20</td>\n",
       "    </tr>\n",
       "    <tr>\n",
       "      <th>9</th>\n",
       "      <td>Downtown</td>\n",
       "      <td>9.00</td>\n",
       "    </tr>\n",
       "    <tr>\n",
       "      <th>23</th>\n",
       "      <td>Lenox Hill</td>\n",
       "      <td>9.05</td>\n",
       "    </tr>\n",
       "  </tbody>\n",
       "</table>\n",
       "</div>"
      ],
      "text/plain": [
       "   Neighborhood  Average Rating\n",
       "2   Boerum Hill            9.00\n",
       "6     Chinatown            9.20\n",
       "9      Downtown            9.00\n",
       "23   Lenox Hill            9.05"
      ]
     },
     "execution_count": 66,
     "metadata": {},
     "output_type": "execute_result"
    }
   ],
   "source": [
    "ny_neighborhood_stats"
   ]
  },
  {
   "cell_type": "markdown",
   "metadata": {},
   "source": [
    "Merge high average rating neighborhoods with their latitude and longitude to visualize in map."
   ]
  },
  {
   "cell_type": "code",
   "execution_count": 67,
   "metadata": {},
   "outputs": [],
   "source": [
    "ny_neighborhood_stats=pd.merge(ny_neighborhood_stats,neighborhoods, on='Neighborhood')"
   ]
  },
  {
   "cell_type": "code",
   "execution_count": 68,
   "metadata": {},
   "outputs": [],
   "source": [
    "ny_neighborhood_stats=ny_neighborhood_stats[['Borough','Neighborhood','Latitude','Longitude','Average Rating']]"
   ]
  },
  {
   "cell_type": "code",
   "execution_count": 69,
   "metadata": {},
   "outputs": [
    {
     "data": {
      "text/html": [
       "<div>\n",
       "<style scoped>\n",
       "    .dataframe tbody tr th:only-of-type {\n",
       "        vertical-align: middle;\n",
       "    }\n",
       "\n",
       "    .dataframe tbody tr th {\n",
       "        vertical-align: top;\n",
       "    }\n",
       "\n",
       "    .dataframe thead th {\n",
       "        text-align: right;\n",
       "    }\n",
       "</style>\n",
       "<table border=\"1\" class=\"dataframe\">\n",
       "  <thead>\n",
       "    <tr style=\"text-align: right;\">\n",
       "      <th></th>\n",
       "      <th>Borough</th>\n",
       "      <th>Neighborhood</th>\n",
       "      <th>Latitude</th>\n",
       "      <th>Longitude</th>\n",
       "      <th>Average Rating</th>\n",
       "    </tr>\n",
       "  </thead>\n",
       "  <tbody>\n",
       "    <tr>\n",
       "      <th>0</th>\n",
       "      <td>Brooklyn</td>\n",
       "      <td>Boerum Hill</td>\n",
       "      <td>40.685683</td>\n",
       "      <td>-73.983748</td>\n",
       "      <td>9.00</td>\n",
       "    </tr>\n",
       "    <tr>\n",
       "      <th>1</th>\n",
       "      <td>Manhattan</td>\n",
       "      <td>Chinatown</td>\n",
       "      <td>40.715618</td>\n",
       "      <td>-73.994279</td>\n",
       "      <td>9.20</td>\n",
       "    </tr>\n",
       "    <tr>\n",
       "      <th>2</th>\n",
       "      <td>Brooklyn</td>\n",
       "      <td>Downtown</td>\n",
       "      <td>40.690844</td>\n",
       "      <td>-73.983463</td>\n",
       "      <td>9.00</td>\n",
       "    </tr>\n",
       "    <tr>\n",
       "      <th>3</th>\n",
       "      <td>Manhattan</td>\n",
       "      <td>Lenox Hill</td>\n",
       "      <td>40.768113</td>\n",
       "      <td>-73.958860</td>\n",
       "      <td>9.05</td>\n",
       "    </tr>\n",
       "  </tbody>\n",
       "</table>\n",
       "</div>"
      ],
      "text/plain": [
       "     Borough Neighborhood   Latitude  Longitude  Average Rating\n",
       "0   Brooklyn  Boerum Hill  40.685683 -73.983748            9.00\n",
       "1  Manhattan    Chinatown  40.715618 -73.994279            9.20\n",
       "2   Brooklyn     Downtown  40.690844 -73.983463            9.00\n",
       "3  Manhattan   Lenox Hill  40.768113 -73.958860            9.05"
      ]
     },
     "execution_count": 69,
     "metadata": {},
     "output_type": "execute_result"
    }
   ],
   "source": [
    "ny_neighborhood_stats"
   ]
  },
  {
   "cell_type": "markdown",
   "metadata": {},
   "source": [
    "Visualize the location of each neighborhood which highest average rating in the map."
   ]
  },
  {
   "cell_type": "code",
   "execution_count": 71,
   "metadata": {},
   "outputs": [],
   "source": [
    "address='New York City, NY'\n",
    "def geo_location(address):\n",
    "    # get geo location of address\n",
    "    geolocator = Nominatim(user_agent=\"foursquare_agent\")\n",
    "    location = geolocator.geocode(address)\n",
    "    latitude = location.latitude\n",
    "    longitude = location.longitude\n",
    "    return latitude,longitude"
   ]
  },
  {
   "cell_type": "code",
   "execution_count": 72,
   "metadata": {},
   "outputs": [],
   "source": [
    "ny_map = folium.Map(location=geo_location('New York'), zoom_start=12)"
   ]
  },
  {
   "cell_type": "code",
   "execution_count": 74,
   "metadata": {},
   "outputs": [],
   "source": [
    "# instantiate a feature group for the incidents in the dataframe\n",
    "thai_res = folium.map.FeatureGroup()\n",
    "\n",
    "# loop through the neighborhood and add each to the feature group\n",
    "for lat, lng, in ny_neighborhood_stats[['Latitude','Longitude']].values:\n",
    "    thai_res.add_child(\n",
    "        folium.CircleMarker(\n",
    "            [lat, lng],\n",
    "            radius=10, # define how big you want the circle markers to be\n",
    "            color='yellow',\n",
    "            fill=True,\n",
    "            fill_color='blue',\n",
    "            fill_opacity=0.6\n",
    "        )\n",
    "    )"
   ]
  },
  {
   "cell_type": "code",
   "execution_count": 75,
   "metadata": {},
   "outputs": [],
   "source": [
    "ny_neighborhood_stats['Label']=ny_neighborhood_stats['Neighborhood']+', '+ny_neighborhood_stats['Borough']+'('+ny_neighborhood_stats['Average Rating'].map(str)+')'"
   ]
  },
  {
   "cell_type": "code",
   "execution_count": 76,
   "metadata": {},
   "outputs": [
    {
     "data": {
      "text/html": [
       "<div style=\"width:100%;\"><div style=\"position:relative;width:100%;height:0;padding-bottom:60%;\"><iframe src=\"about:blank\" style=\"position:absolute;width:100%;height:100%;left:0;top:0;border:none !important;\" data-html=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 onload=\"this.contentDocument.open();this.contentDocument.write(atob(this.getAttribute('data-html')));this.contentDocument.close();\" allowfullscreen webkitallowfullscreen mozallowfullscreen></iframe></div></div>"
      ],
      "text/plain": [
       "<folium.folium.Map at 0x19d517b4a88>"
      ]
     },
     "execution_count": 76,
     "metadata": {},
     "output_type": "execute_result"
    }
   ],
   "source": [
    "# add pop-up text to each marker on the map\n",
    "for lat, lng, label in ny_neighborhood_stats[['Latitude','Longitude','Label']].values:\n",
    "    folium.Marker([lat, lng], popup=label).add_to(ny_map)        \n",
    "# add incidents to map\n",
    "ny_map.add_child(thai_res)"
   ]
  },
  {
   "cell_type": "code",
   "execution_count": null,
   "metadata": {},
   "outputs": [],
   "source": []
  },
  {
   "cell_type": "code",
   "execution_count": null,
   "metadata": {},
   "outputs": [],
   "source": []
  }
 ],
 "metadata": {
  "kernelspec": {
   "display_name": "Python 3",
   "language": "python",
   "name": "python3"
  },
  "language_info": {
   "codemirror_mode": {
    "name": "ipython",
    "version": 3
   },
   "file_extension": ".py",
   "mimetype": "text/x-python",
   "name": "python",
   "nbconvert_exporter": "python",
   "pygments_lexer": "ipython3",
   "version": "3.7.6"
  }
 },
 "nbformat": 4,
 "nbformat_minor": 4
}
